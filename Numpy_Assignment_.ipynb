{
  "nbformat": 4,
  "nbformat_minor": 0,
  "metadata": {
    "colab": {
      "provenance": []
    },
    "kernelspec": {
      "name": "python3",
      "display_name": "Python 3"
    },
    "language_info": {
      "name": "python"
    }
  },
  "cells": [
    {
      "cell_type": "code",
      "execution_count": 1,
      "metadata": {
        "id": "snGGvXNrPMYM"
      },
      "outputs": [],
      "source": [
        "import numpy as np\n",
        "import pandas as pd"
      ]
    },
    {
      "cell_type": "code",
      "source": [
        "# 1. Create a NumPy array 'arr' of integers from 0 to 5 and print its data type.\n",
        "\n",
        "# Creating a NumPy array 'arr' of integers from 0 to 5\n",
        "arr = np.arange(6)\n",
        "\n",
        "# Printing the array and its data type\n",
        "print(arr)\n",
        "print(\"Data type of arr :\",arr.dtype)\n",
        "\n"
      ],
      "metadata": {
        "colab": {
          "base_uri": "https://localhost:8080/"
        },
        "id": "9_kiQr56PebC",
        "outputId": "e08c219a-8a60-46cd-b036-38568a2625dc"
      },
      "execution_count": 47,
      "outputs": [
        {
          "output_type": "stream",
          "name": "stdout",
          "text": [
            "[0 1 2 3 4 5]\n",
            "Data type of arr : int64\n"
          ]
        }
      ]
    },
    {
      "cell_type": "code",
      "source": [
        "# 2. Given a NumPy array 'arr', check if its data type is float64.\n",
        "\n",
        "# Given NumPy array 'arr'\n",
        "arr = np.array([1.5, 2.6, 3.7])\n",
        "\n",
        "# Checking if the data type is float64\n",
        "is_float64 = arr.dtype == np.float64\n",
        "\n",
        "# Printing the result\n",
        "print(\"Is the data type float64 ? \", is_float64)\n"
      ],
      "metadata": {
        "colab": {
          "base_uri": "https://localhost:8080/"
        },
        "id": "YmENV4utPq8b",
        "outputId": "f34bb610-3638-4ea6-a8d8-418eab37589d"
      },
      "execution_count": 48,
      "outputs": [
        {
          "output_type": "stream",
          "name": "stdout",
          "text": [
            "Is the data type float64 ?  True\n"
          ]
        }
      ]
    },
    {
      "cell_type": "code",
      "source": [
        "# 3. Create a NumPy array 'arr' with a data type of complex128 containing three complex numbers.\n",
        "\n",
        "\n",
        "# Creating a NumPy array 'arr' with complex128 data type\n",
        "arr = np.array([1 + 2j, 3 + 4j, 5 + 6j], dtype=np.complex128)\n",
        "\n",
        "# Printing the array and its data type\n",
        "print(arr)\n",
        "print(\"Data Type:\",arr.dtype)"
      ],
      "metadata": {
        "colab": {
          "base_uri": "https://localhost:8080/"
        },
        "id": "w9SruXQDRGt6",
        "outputId": "e865b191-e4e0-45a7-d73f-2859d3318f00"
      },
      "execution_count": 49,
      "outputs": [
        {
          "output_type": "stream",
          "name": "stdout",
          "text": [
            "[1.+2.j 3.+4.j 5.+6.j]\n",
            "Data Type: complex128\n"
          ]
        }
      ]
    },
    {
      "cell_type": "code",
      "source": [
        "# 4. Convert an existing NumPy array 'arr' of integers to float32 data type.\n",
        "\n",
        "# Creating a NumPy array 'arr' of integers\n",
        "arr = np.array([1, 2, 3, 4, 5])\n",
        "\n",
        "# Converting the array to float32\n",
        "arr_float32 = arr.astype(np.float32)\n",
        "\n",
        "# Printing the original and converted arrays along with their data types\n",
        "print(\"Original Array:\", arr)\n",
        "print(\"Converted Array:\", arr_float32)\n"
      ],
      "metadata": {
        "colab": {
          "base_uri": "https://localhost:8080/"
        },
        "id": "NTq77O4RSTyY",
        "outputId": "58c56e8e-b07d-402e-827c-22fc5c28e0f4"
      },
      "execution_count": 50,
      "outputs": [
        {
          "output_type": "stream",
          "name": "stdout",
          "text": [
            "Original Array: [1 2 3 4 5]\n",
            "Converted Array: [1. 2. 3. 4. 5.]\n"
          ]
        }
      ]
    },
    {
      "cell_type": "code",
      "source": [
        "# 5. Given a NumPy array 'arr' with float64 data type, convert it to float32 to reduce decimal precision.\n",
        "\n",
        "\n",
        "# Creating a NumPy array 'arr' with float64 data type\n",
        "arr = np.array([1.5, 2.6, 3.7], dtype=np.float64)\n",
        "\n",
        "# Displaying the original array and its data type\n",
        "print(\"Original Array:\", arr)\n",
        "print(\"Original Data Type:\", arr.dtype)\n",
        "\n",
        "# Converting the array to float32\n",
        "arr_float32 = arr.astype(np.float32)\n",
        "\n",
        "# Displaying the converted array and its new data type\n",
        "print(\"Converted Array:\", arr_float32)\n",
        "print(\"Converted Data Type:\", arr_float32.dtype)\n"
      ],
      "metadata": {
        "colab": {
          "base_uri": "https://localhost:8080/"
        },
        "id": "GpbBQIpfStzz",
        "outputId": "b9a18f02-a824-4f8c-b874-2a6c2fef9d48"
      },
      "execution_count": 51,
      "outputs": [
        {
          "output_type": "stream",
          "name": "stdout",
          "text": [
            "Original Array: [1.5 2.6 3.7]\n",
            "Original Data Type: float64\n",
            "Converted Array: [1.5 2.6 3.7]\n",
            "Converted Data Type: float32\n"
          ]
        }
      ]
    },
    {
      "cell_type": "code",
      "source": [
        "# 6.  Write a function array_attributes that takes a NumPy array as input and returns its shape, size, and data type.\n",
        "\n",
        "def array_attributes(arr):\n",
        "    shape = arr.shape        # Get the shape of the array\n",
        "    size = arr.size          # Get the total number of elements in the array\n",
        "    dtype = arr.dtype        # Get the data type of the array\n",
        "\n",
        "    return shape, size, dtype\n",
        "\n",
        "# Example usage\n",
        "if __name__ == \"__main__\":\n",
        "    # Creating a sample NumPy array\n",
        "    sample_array = np.array([[1.5, 2.6], [3.7, 4.8]], dtype=np.float64)\n",
        "\n",
        "    # Getting the attributes of the sample array\n",
        "    attributes = array_attributes(sample_array)\n",
        "\n",
        "    # Printing the attributes\n",
        "    print(\"Sample array:\")\n",
        "    print(sample_array)\n",
        "    print(\"Shape:\", attributes[0])\n",
        "    print(\"Size:\", attributes[1])\n",
        "    print(\"Data Type:\", attributes[2])"
      ],
      "metadata": {
        "colab": {
          "base_uri": "https://localhost:8080/"
        },
        "id": "IPlxXgV_Thej",
        "outputId": "25ac4526-010b-4fc8-ff08-8dba319a478b"
      },
      "execution_count": 52,
      "outputs": [
        {
          "output_type": "stream",
          "name": "stdout",
          "text": [
            "Sample array:\n",
            "[[1.5 2.6]\n",
            " [3.7 4.8]]\n",
            "Shape: (2, 2)\n",
            "Size: 4\n",
            "Data Type: float64\n"
          ]
        }
      ]
    },
    {
      "cell_type": "code",
      "source": [
        "# 7. Create a function array_dimension that takes a NumPy array as input and returns its dimensionality.\n",
        "\n",
        "\n",
        " # Creating function array_dimension\n",
        "def array_dimension(arr):\n",
        "    return arr.ndim  # Return the number of dimensions\n",
        "\n",
        "# Example usage\n",
        "if __name__ == \"__main__\":\n",
        "    # Creating a sample NumPy array\n",
        "    sample_array_1d = np.array([1, 2, 3])            # 1D array\n",
        "    sample_array_2d = np.array([[1, 2, 3], [4, 5, 6]])  # 2D array\n",
        "    sample_array_3d = np.array([[[1], [2]], [[3], [4]]])  # 3D array\n",
        "\n",
        "    # Getting the dimensions of the sample arrays\n",
        "    print(\"Dimensionality of sample_array1:\", array_dimension(sample_array_1d))\n",
        "    print(\"Dimensionality of sample_array2:\", array_dimension(sample_array_2d))\n",
        "    print(\"Dimensionality of sample_array3:\", array_dimension(sample_array_3d))"
      ],
      "metadata": {
        "colab": {
          "base_uri": "https://localhost:8080/"
        },
        "id": "Caea3U5cUtjN",
        "outputId": "699143d2-c3df-4fbc-e0e9-b4d752bef0b8"
      },
      "execution_count": 53,
      "outputs": [
        {
          "output_type": "stream",
          "name": "stdout",
          "text": [
            "Dimensionality of sample_array1: 1\n",
            "Dimensionality of sample_array2: 2\n",
            "Dimensionality of sample_array3: 3\n"
          ]
        }
      ]
    },
    {
      "cell_type": "code",
      "source": [
        "# 8.  Design a function item_size_info that takes a NumPy array as input and returns the item size and the total size in bytes.\n",
        "\n",
        "  # Creating function item_size\n",
        "def item_size_info(arr):\n",
        "    item_size = arr.itemsize  # Size of one element in bytes\n",
        "    total_size = arr.nbytes    # Total size of the array in bytes\n",
        "\n",
        "    return item_size, total_size\n",
        "\n",
        "# Example usage\n",
        "if __name__ == \"__main__\":\n",
        "    # Creating a sample NumPy array\n",
        "    sample_array = np.array([[1, 2, 3], [4, 5, 6]], dtype=np.float64)\n",
        "\n",
        "    # Getting the item size and total size of the sample array\n",
        "    sizes = item_size_info(sample_array)\n",
        "\n",
        "    # Printing the results\n",
        "    print(\"Sample Array:\")\n",
        "    print(sample_array)\n",
        "    print(\"Item Size (in bytes):\", sizes[0])\n",
        "    print(\"Total Size (in bytes):\", sizes[1])"
      ],
      "metadata": {
        "id": "YAFyinIeV3vW",
        "colab": {
          "base_uri": "https://localhost:8080/"
        },
        "outputId": "a584240c-7c02-4ce0-e1de-460c39959332"
      },
      "execution_count": 54,
      "outputs": [
        {
          "output_type": "stream",
          "name": "stdout",
          "text": [
            "Sample Array:\n",
            "[[1. 2. 3.]\n",
            " [4. 5. 6.]]\n",
            "Item Size (in bytes): 8\n",
            "Total Size (in bytes): 48\n"
          ]
        }
      ]
    },
    {
      "cell_type": "code",
      "source": [
        "# 9. Create a function array_strides that takes a NumPy array as input and returns the strides of the array.\n",
        "\n",
        "  # Creating function array_strides\n",
        "def array_strides(arr):\n",
        "    return arr.strides  # Return the strides of the array\n",
        "\n",
        "# Example usage\n",
        "if __name__ == \"__main__\":\n",
        "    # Creating a sample NumPy array\n",
        "    sample_array = np.array([[1, 2, 3], [4, 5, 6]], dtype=np.float64)\n",
        "\n",
        "    # Getting the strides of the sample array\n",
        "    strides = array_strides(sample_array)\n",
        "\n",
        "    # Printing the results\n",
        "    print(\"Sample Array:\")\n",
        "    print(sample_array)\n",
        "    print(\"Strides of Array (in bytes):\", strides)"
      ],
      "metadata": {
        "colab": {
          "base_uri": "https://localhost:8080/"
        },
        "id": "qIp4HoxyLVuj",
        "outputId": "f9a6fece-a651-4a1c-aa20-fbe161cf9dc3"
      },
      "execution_count": 55,
      "outputs": [
        {
          "output_type": "stream",
          "name": "stdout",
          "text": [
            "Sample Array:\n",
            "[[1. 2. 3.]\n",
            " [4. 5. 6.]]\n",
            "Strides of Array (in bytes): (24, 8)\n"
          ]
        }
      ]
    },
    {
      "cell_type": "code",
      "source": [
        "# 10.  Design a function shape_stride_relationship that takes a NumPy array as input and returns the shape and strides of the array.\n",
        "\n",
        "  # Creating function shape_stride_realationship\n",
        "def shape_stride_relationship(arr):\n",
        "    shape = arr.shape      # Get the shape of the array\n",
        "    strides = arr.strides  # Get the strides of the array\n",
        "\n",
        "    return shape, strides  # Return both shape and strides\n",
        "\n",
        "# Example usage\n",
        "if __name__ == \"__main__\":\n",
        "    # Creating a sample NumPy array\n",
        "    sample_array = np.array([[1, 2, 3], [4, 5, 6]], dtype=np.float64)\n",
        "\n",
        "    # Getting the shape and strides of the sample array\n",
        "    result = shape_stride_relationship(sample_array)\n",
        "\n",
        "    # Printing the results\n",
        "    print(\"Sample Array:\")\n",
        "    print(sample_array)\n",
        "    print(\"Shape:\", result[0])\n",
        "    print(\"Strides (in bytes):\", result[1])"
      ],
      "metadata": {
        "colab": {
          "base_uri": "https://localhost:8080/"
        },
        "id": "puuTVZLEMMHM",
        "outputId": "5cf0a2a4-c33c-4252-a630-4e37a9b5f26c"
      },
      "execution_count": 56,
      "outputs": [
        {
          "output_type": "stream",
          "name": "stdout",
          "text": [
            "Sample Array:\n",
            "[[1. 2. 3.]\n",
            " [4. 5. 6.]]\n",
            "Shape: (2, 3)\n",
            "Strides (in bytes): (24, 8)\n"
          ]
        }
      ]
    },
    {
      "cell_type": "code",
      "source": [
        "# 11.  Create a function `create_zeros_array` that takes an integer `n` as input and returns a NumPy array of zeros with `n` elements.\n",
        "\n",
        "   # Creating function create_zeros_array\n",
        "def create_zeros_array(n):\n",
        "    return np.zeros(n)  # Create and return an array of zeros with n elements\n",
        "\n",
        "# Example usage\n",
        "if __name__ == \"__main__\":\n",
        "    # Specify the number of elements\n",
        "    n = 5\n",
        "\n",
        "    # Creating the zeros array\n",
        "    zeros_array = create_zeros_array(n)\n",
        "\n",
        "    # Printing the result\n",
        "    print(\"Input Integer:\",n)\n",
        "    print(\"Array of zeros:\", zeros_array)"
      ],
      "metadata": {
        "colab": {
          "base_uri": "https://localhost:8080/"
        },
        "id": "8rLepz9nMqAh",
        "outputId": "7aadf85e-0719-4f8e-aa86-d8aed5971b30"
      },
      "execution_count": 57,
      "outputs": [
        {
          "output_type": "stream",
          "name": "stdout",
          "text": [
            "Input Integer: 5\n",
            "Array of zeros: [0. 0. 0. 0. 0.]\n"
          ]
        }
      ]
    },
    {
      "cell_type": "code",
      "source": [
        "# 12. Write a function `create_ones_matrix` that takes integers `rows` and `cols` as inputs and generates a 2D NumPy array filled with ones of size `rows x cols`.\n",
        "\n",
        " # Create function create_ones_matrix\n",
        "def create_ones_matrix(rows, cols):\n",
        "    return np.ones((rows, cols))  # Create and return a 2D array of ones\n",
        "\n",
        "# Example usage\n",
        "if __name__ == \"__main__\":\n",
        "    # Specify the number of rows and columns\n",
        "    rows = 3\n",
        "    cols = 4\n",
        "\n",
        "    # Creating the ones matrix\n",
        "    ones_matrix = create_ones_matrix(rows, cols)\n",
        "\n",
        "    # Printing the result\n",
        "    print(\"Number of rows:\", rows)\n",
        "    print(\"Number of columns:\", cols)\n",
        "    print(\"Matrix of ones:\\n\", ones_matrix)"
      ],
      "metadata": {
        "colab": {
          "base_uri": "https://localhost:8080/"
        },
        "id": "XeLR5ehVNBJt",
        "outputId": "c2b12f9a-cf0b-4233-a1f3-b4ed1544239b"
      },
      "execution_count": 58,
      "outputs": [
        {
          "output_type": "stream",
          "name": "stdout",
          "text": [
            "Number of rows: 3\n",
            "Number of columns: 4\n",
            "Matrix of ones:\n",
            " [[1. 1. 1. 1.]\n",
            " [1. 1. 1. 1.]\n",
            " [1. 1. 1. 1.]]\n"
          ]
        }
      ]
    },
    {
      "cell_type": "code",
      "source": [
        "# 13. Write a function `generate_range_array` that takes three integers start, stop, and step as arguments and creates a NumPy array with a range starting from `start`, ending at stop (exclusive), and with the specified`step.\n",
        "\n",
        "  # Create function generate_range_array\n",
        "def generate_range_array(start, stop, step):\n",
        "    return np.arange(start, stop, step)  # Create and return the range array\n",
        "\n",
        "# Example usage\n",
        "if __name__ == \"__main__\":\n",
        "    # Specify the start, stop, and step values\n",
        "    start = 0\n",
        "    stop = 13\n",
        "    step = 2\n",
        "\n",
        "    # Generating the range array\n",
        "    range_array = generate_range_array(start, stop, step)\n",
        "\n",
        "    # Printing the result\n",
        "    print(\"Start Value:\", start)\n",
        "    print(\"Stop Value (exclusive):\", stop)\n",
        "    print(\"Step Value:\", step)\n",
        "    print(\"Generated Range Array:\", range_array)"
      ],
      "metadata": {
        "colab": {
          "base_uri": "https://localhost:8080/"
        },
        "id": "wqD1nZBqNkgG",
        "outputId": "9b1bfb05-6384-4cbd-89ce-533acb57184e"
      },
      "execution_count": 59,
      "outputs": [
        {
          "output_type": "stream",
          "name": "stdout",
          "text": [
            "Start Value: 0\n",
            "Stop Value (exclusive): 13\n",
            "Step Value: 2\n",
            "Generated Range Array: [ 0  2  4  6  8 10 12]\n"
          ]
        }
      ]
    },
    {
      "cell_type": "code",
      "source": [
        "# 14. Design a function `generate_linear_space` that takes two floats `start`, `stop`, and an integer `num` as arguments and generates a NumPy array with num equally spaced values between `start` and `stop` (inclusive).\n",
        "\n",
        " # Create function generate_linear_space\n",
        "def generate_linear_space(start, stop, num):\n",
        "    return np.linspace(start, stop, num)  # Create and return the linear space array\n",
        "\n",
        "# Example usage\n",
        "if __name__ == \"__main__\":\n",
        "    # Specify the start, stop, and number of values\n",
        "    start = 0.0\n",
        "    stop = 1.0\n",
        "    num = 5\n",
        "\n",
        "    # Generating the linear space array\n",
        "    linear_space_array = generate_linear_space(start, stop, num)\n",
        "\n",
        "    # Printing the result\n",
        "    print(\"Start Value:\", start)\n",
        "    print(\"Stop Value (inclusive):\", stop)\n",
        "    print(\"Number of Values:\", num)\n",
        "    print(\"Generated Linear Space Array:\", linear_space_array)"
      ],
      "metadata": {
        "colab": {
          "base_uri": "https://localhost:8080/"
        },
        "id": "zHu__gwoPRn6",
        "outputId": "a3ed798c-83dd-4d50-f8eb-43c65ce80d63"
      },
      "execution_count": 60,
      "outputs": [
        {
          "output_type": "stream",
          "name": "stdout",
          "text": [
            "Start Value: 0.0\n",
            "Stop Value (inclusive): 1.0\n",
            "Number of Values: 5\n",
            "Generated Linear Space Array: [0.   0.25 0.5  0.75 1.  ]\n"
          ]
        }
      ]
    },
    {
      "cell_type": "code",
      "source": [
        "# 15. Create a function `create_identity_matrix` that takes an integer `n` as input and generates a square identity matrix of size `n x n` using `numpy.eye`.\n",
        "\n",
        " # Create function create_identity_matrix\n",
        "def create_identity_matrix(n):\n",
        "    return np.eye(n)  # Create and return the identity matrix\n",
        "\n",
        "# Example usage\n",
        "if __name__ == \"__main__\":\n",
        "    # Specify the size of the identity matrix\n",
        "    n = 4\n",
        "\n",
        "    # Creating the identity matrix\n",
        "    identity_matrix = create_identity_matrix(n)\n",
        "\n",
        "    # Printing the result\n",
        "    print(\"Size of Identity Matrix:\", n)\n",
        "    print(\"Identity Matrix of size\", n, \"x\", n, \":\\n\", identity_matrix)"
      ],
      "metadata": {
        "colab": {
          "base_uri": "https://localhost:8080/"
        },
        "id": "7DI4jfVnP28s",
        "outputId": "c23b4679-094e-4944-92cf-771cbde6501d"
      },
      "execution_count": 61,
      "outputs": [
        {
          "output_type": "stream",
          "name": "stdout",
          "text": [
            "Size of Identity Matrix: 4\n",
            "Identity Matrix of size 4 x 4 :\n",
            " [[1. 0. 0. 0.]\n",
            " [0. 1. 0. 0.]\n",
            " [0. 0. 1. 0.]\n",
            " [0. 0. 0. 1.]]\n"
          ]
        }
      ]
    },
    {
      "cell_type": "code",
      "source": [
        "# 16. Write a function that takes a Python list and converts it into a NumPy array.\n",
        "\n",
        " # Create funtion that convert python list into Numpy array\n",
        "def convert_list_to_array(py_list):\n",
        "    return np.array(py_list)  # Convert the list to a NumPy array\n",
        "\n",
        "# Example usage\n",
        "if __name__ == \"__main__\":\n",
        "    # Specify a Python list\n",
        "    python_list = [1, 2, 3, 4, 5]\n",
        "\n",
        "    # Converting the list to a NumPy array\n",
        "    numpy_array = convert_list_to_array(python_list)\n",
        "\n",
        "    # Printing the result\n",
        "    print(\"Original Python List:\", python_list)\n",
        "    print(\"Converted NumPy Array:\", numpy_array)"
      ],
      "metadata": {
        "colab": {
          "base_uri": "https://localhost:8080/"
        },
        "id": "x4DoXtQ5Qoaf",
        "outputId": "c406b984-6ebd-4e79-d175-796d7bf6b9e1"
      },
      "execution_count": 62,
      "outputs": [
        {
          "output_type": "stream",
          "name": "stdout",
          "text": [
            "Original Python List: [1, 2, 3, 4, 5]\n",
            "Converted NumPy Array: [1 2 3 4 5]\n"
          ]
        }
      ]
    },
    {
      "cell_type": "code",
      "source": [
        "# 17. Create a NumPy array and demonstrate the use of `numpy.view` to create a new array object with the same data.\n",
        "\n",
        " # Create function to demonstrate use of `numpy.view`\n",
        "def demonstrate_view():\n",
        "    # Creating a NumPy array\n",
        "    original_array = np.array([1, 2, 3, 4, 5])\n",
        "\n",
        "    # Creating a view of the original array\n",
        "    array_view = original_array.view()\n",
        "\n",
        "    # Displaying both arrays\n",
        "    print(\"Original Array:\", original_array)\n",
        "    print(\"Array View:\", array_view)\n",
        "\n",
        "    # Modifying the view\n",
        "    array_view[0] = 10\n",
        "\n",
        "    # Displaying both arrays after modification\n",
        "    print(\"\\nAfter modifying the view:\")\n",
        "    print(\"Original Array:\", original_array)\n",
        "    print(\"Array View:\", array_view)\n",
        "\n",
        "# Example usage\n",
        "if __name__ == \"__main__\":\n",
        "    demonstrate_view()"
      ],
      "metadata": {
        "colab": {
          "base_uri": "https://localhost:8080/"
        },
        "id": "6ffVNxFWROQS",
        "outputId": "56847a5b-02fa-4ea3-bdc5-99a1d9a7d08e"
      },
      "execution_count": 63,
      "outputs": [
        {
          "output_type": "stream",
          "name": "stdout",
          "text": [
            "Original Array: [1 2 3 4 5]\n",
            "Array View: [1 2 3 4 5]\n",
            "\n",
            "After modifying the view:\n",
            "Original Array: [10  2  3  4  5]\n",
            "Array View: [10  2  3  4  5]\n"
          ]
        }
      ]
    },
    {
      "cell_type": "code",
      "source": [
        "# 18. Write a function that takes two NumPy arrays and concatenates them along a specified axis.\n",
        "\n",
        "\n",
        "def concatenate_arrays(array1, array2, axis=0):\n",
        "    return np.concatenate((array1, array2), axis=axis)  # Concatenate the arrays\n",
        "\n",
        "# Example usage\n",
        "if __name__ == \"__main__\":\n",
        "    # Creating two sample NumPy arrays\n",
        "    array1 = np.array([[1, 2], [3, 4]])\n",
        "    array2 = np.array([[5, 6], [7, 8]])\n",
        "\n",
        "    # Concatenating the arrays along the default axis (0)\n",
        "    concatenated_array_axis0 = concatenate_arrays(array1, array2)\n",
        "\n",
        "    # Concatenating the arrays along axis 1\n",
        "    concatenated_array_axis1 = concatenate_arrays(array1, array2, axis=1)\n",
        "\n",
        "    # Printing the results\n",
        "    print(\"Array 1:\\n\", array1)\n",
        "    print(\"Array 2:\\n\", array2)\n",
        "    print(\"\\nConcatenated Array along axis 0:\\n\", concatenated_array_axis0)\n",
        "    print(\"\\nConcatenated Array along axis 1:\\n\", concatenated_array_axis1)\n"
      ],
      "metadata": {
        "id": "imdN2S6mR8b7",
        "colab": {
          "base_uri": "https://localhost:8080/"
        },
        "outputId": "e3f83cec-40c0-4178-8253-85cb3d0270ce"
      },
      "execution_count": 64,
      "outputs": [
        {
          "output_type": "stream",
          "name": "stdout",
          "text": [
            "Array 1:\n",
            " [[1 2]\n",
            " [3 4]]\n",
            "Array 2:\n",
            " [[5 6]\n",
            " [7 8]]\n",
            "\n",
            "Concatenated Array along axis 0:\n",
            " [[1 2]\n",
            " [3 4]\n",
            " [5 6]\n",
            " [7 8]]\n",
            "\n",
            "Concatenated Array along axis 1:\n",
            " [[1 2 5 6]\n",
            " [3 4 7 8]]\n"
          ]
        }
      ]
    },
    {
      "cell_type": "code",
      "source": [
        "# 19. Create two NumPy arrays with different shapes and concatenate them horizontally using `numpy.concatenate`.\n",
        "\n",
        "\n",
        "def concatenate_arrays_horizontally(array1, array2):\n",
        "    # Check if the number of rows is the same\n",
        "    if array1.shape[0] != array2.shape[0]:\n",
        "        raise ValueError(\"The number of rows in both arrays must be the same for horizontal concatenation.\")\n",
        "\n",
        "    # Concatenate the arrays along axis 1 (horizontally)\n",
        "    return np.concatenate((array1, array2), axis=1)\n",
        "\n",
        "# Example usage\n",
        "if __name__ == \"__main__\":\n",
        "    # Creating two sample NumPy arrays with the same number of rows\n",
        "    array1 = np.array([[1, 2, 3], [4, 5, 6]])  # Shape (2, 3)\n",
        "    array2 = np.array([[7, 8], [9, 10]])        # Shape (2, 2)\n",
        "\n",
        "    # Concatenating the arrays horizontally\n",
        "    concatenated_array = concatenate_arrays_horizontally(array1, array2)\n",
        "\n",
        "    # Printing the result\n",
        "    print(\"Array 1:\\n\", array1)\n",
        "    print(\"Array 2:\\n\", array2)\n",
        "    print(\"\\nConcatenated Array:\\n\", concatenated_array)\n",
        "\n",
        "\n"
      ],
      "metadata": {
        "colab": {
          "base_uri": "https://localhost:8080/"
        },
        "id": "LrggFMljskTw",
        "outputId": "bb1f18b3-b07c-4e7c-cc76-a0f6355c8734"
      },
      "execution_count": 65,
      "outputs": [
        {
          "output_type": "stream",
          "name": "stdout",
          "text": [
            "Array 1:\n",
            " [[1 2 3]\n",
            " [4 5 6]]\n",
            "Array 2:\n",
            " [[ 7  8]\n",
            " [ 9 10]]\n",
            "\n",
            "Concatenated Array:\n",
            " [[ 1  2  3  7  8]\n",
            " [ 4  5  6  9 10]]\n"
          ]
        }
      ]
    },
    {
      "cell_type": "code",
      "source": [
        "# 20. Write a function that vertically stacks multiple NumPy arrays given as a list.\n",
        "\n",
        "\n",
        "def stack_arrays_vertically(arrays):\n",
        "    return np.vstack(arrays)  # Use vstack to concatenate the arrays vertically\n",
        "\n",
        "# Example usage\n",
        "if __name__ == \"__main__\":\n",
        "    # Creating sample NumPy arrays\n",
        "    array1 = np.array([[1, 2, 3], [4, 5, 6]])\n",
        "    array2 = np.array([[7, 8, 9]])\n",
        "    array3 = np.array([[10, 11, 12], [13, 14, 15]])\n",
        "\n",
        "    # List of arrays to stack\n",
        "    arrays_to_stack = [array1, array2, array3]\n",
        "\n",
        "    # Stacking the arrays vertically\n",
        "    stacked_array = stack_arrays_vertically(arrays_to_stack)\n",
        "\n",
        "    # Printing the result\n",
        "    print(\"Array1:\\n\",array1)\n",
        "    print(\"Array2:\\n\",array2)\n",
        "    print(\"Array3:\\n\",array3)\n",
        "    print(\"\\nStacked Array:\\n\", stacked_array)\n"
      ],
      "metadata": {
        "colab": {
          "base_uri": "https://localhost:8080/"
        },
        "id": "qAQjPsl9tQQs",
        "outputId": "839c64ff-a49f-47d4-ddf1-46f86484150b"
      },
      "execution_count": 66,
      "outputs": [
        {
          "output_type": "stream",
          "name": "stdout",
          "text": [
            "Array1:\n",
            " [[1 2 3]\n",
            " [4 5 6]]\n",
            "Array2:\n",
            " [[7 8 9]]\n",
            "Array3:\n",
            " [[10 11 12]\n",
            " [13 14 15]]\n",
            "\n",
            "Stacked Array:\n",
            " [[ 1  2  3]\n",
            " [ 4  5  6]\n",
            " [ 7  8  9]\n",
            " [10 11 12]\n",
            " [13 14 15]]\n"
          ]
        }
      ]
    },
    {
      "cell_type": "code",
      "source": [
        "# 21. Write a Python function using NumPy to create an array of integers within a specified range (inclusive) with a given step size.\n",
        "\n",
        "\n",
        "def create_integer_range(start, stop, step):\n",
        "    # Generate the range and include the stop value if it's not already included\n",
        "    if step > 0:\n",
        "        return np.arange(start, stop + 1, step)  # Include stop by adding 1\n",
        "    else:\n",
        "        return np.arange(start, stop - 1, step)  # For negative steps, adjust accordingly\n",
        "\n",
        "# Example usage\n",
        "if __name__ == \"__main__\":\n",
        "    # Specify the range and step size\n",
        "    start = 1\n",
        "    stop = 10\n",
        "    step = 3\n",
        "\n",
        "    # Creating the integer range array\n",
        "    integer_range_array = create_integer_range(start, stop, step)\n",
        "\n",
        "    # Printing the result\n",
        "    print(\"Generated Integer Range Array:\", integer_range_array)\n",
        "\n"
      ],
      "metadata": {
        "colab": {
          "base_uri": "https://localhost:8080/"
        },
        "id": "x2YzBuWVt4oq",
        "outputId": "b7e2e4ce-c879-4c7a-ce16-b1cfd7e84ae7"
      },
      "execution_count": 67,
      "outputs": [
        {
          "output_type": "stream",
          "name": "stdout",
          "text": [
            "Generated Integer Range Array: [ 1  4  7 10]\n"
          ]
        }
      ]
    },
    {
      "cell_type": "code",
      "source": [
        "# 22. Write a Python function using NumPy to generate an array of 10 equally spaced values between 0 and 1 (inclusive).\n",
        "\n",
        "\n",
        "def generate_equally_spaced_values(start=0, stop=1, num=10):\n",
        "    return np.linspace(start, stop, num)  # Generate equally spaced values\n",
        "\n",
        "# Example usage\n",
        "if __name__ == \"__main__\":\n",
        "    # Generating the array of equally spaced values\n",
        "    equally_spaced_array = generate_equally_spaced_values()\n",
        "\n",
        "    # Printing the result\n",
        "    print(\"Start Value:\", start)\n",
        "    print(\"Stop Value:\", stop)\n",
        "    print(\"\\n10 Equally Spaced Values Array:\\n\", equally_spaced_array)\n",
        "\n"
      ],
      "metadata": {
        "colab": {
          "base_uri": "https://localhost:8080/"
        },
        "id": "56nB3wzeumrV",
        "outputId": "e6889142-9fb1-4aab-d4ac-39fbbc611c5b"
      },
      "execution_count": 68,
      "outputs": [
        {
          "output_type": "stream",
          "name": "stdout",
          "text": [
            "Start Value: 1\n",
            "Stop Value: 10\n",
            "\n",
            "10 Equally Spaced Values Array:\n",
            " [0.         0.11111111 0.22222222 0.33333333 0.44444444 0.55555556\n",
            " 0.66666667 0.77777778 0.88888889 1.        ]\n"
          ]
        }
      ]
    },
    {
      "cell_type": "code",
      "source": [
        "# 23. Write a Python function using NumPy to create an array of 5 logarithmically spaced values between 1 and 1000 (inclusive).\n",
        "\n",
        "\n",
        "def generate_logarithmically_spaced_values(start=1, stop=1000, num=5):\n",
        "    return np.logspace(np.log10(start), np.log10(stop), num)  # Generate log spaced values\n",
        "\n",
        "# Example usage\n",
        "if __name__ == \"__main__\":\n",
        "    # Generating the array of logarithmically spaced values\n",
        "    log_spaced_array = generate_logarithmically_spaced_values()\n",
        "\n",
        "    # Printing the result\n",
        "    print(\"Start Value:\", start)\n",
        "    print(\"Stop Value:\", stop)\n",
        "    print(\"\\n5 Logarithmically Spaced Values Array:\\n\", log_spaced_array)\n",
        "\n"
      ],
      "metadata": {
        "colab": {
          "base_uri": "https://localhost:8080/"
        },
        "id": "J2PVn-hEvSUR",
        "outputId": "29a0343e-4c70-42ef-8853-10e0d60bc6b1"
      },
      "execution_count": 69,
      "outputs": [
        {
          "output_type": "stream",
          "name": "stdout",
          "text": [
            "Start Value: 1\n",
            "Stop Value: 10\n",
            "\n",
            "5 Logarithmically Spaced Values Array:\n",
            " [   1.            5.62341325   31.6227766   177.827941   1000.        ]\n"
          ]
        }
      ]
    },
    {
      "cell_type": "code",
      "source": [
        "# 24. Create a Pandas DataFrame using a NumPy array that contains 5 rows and 3 columns, where the values are random integers between 1 and 100.\n",
        "\n",
        "\n",
        "def create_dataframe_from_random_integers(rows=5, cols=3, low=1, high=100):\n",
        "    # Generate a NumPy array of random integers\n",
        "    random_array = np.random.randint(low, high, size=(rows, cols))\n",
        "\n",
        "    # Create a DataFrame from the NumPy array\n",
        "    df = pd.DataFrame(random_array, columns=[f'Column {i+1}' for i in range(cols)])\n",
        "\n",
        "    return df\n",
        "\n",
        "# Example usage\n",
        "if __name__ == \"__main__\":\n",
        "    # Creating the DataFrame\n",
        "    dataframe = create_dataframe_from_random_integers()\n",
        "\n",
        "    # Printing the result\n",
        "    print(\"Generated DataFrame:\\n\", dataframe)\n",
        "\n"
      ],
      "metadata": {
        "colab": {
          "base_uri": "https://localhost:8080/"
        },
        "id": "0eTFRIDivuR8",
        "outputId": "6a7b42b9-68b4-4bf0-bd74-85a18bafd6d1"
      },
      "execution_count": 70,
      "outputs": [
        {
          "output_type": "stream",
          "name": "stdout",
          "text": [
            "Generated DataFrame:\n",
            "    Column 1  Column 2  Column 3\n",
            "0        75        37        19\n",
            "1        43         1        15\n",
            "2        87        29        80\n",
            "3        96         7        47\n",
            "4        83        29        67\n"
          ]
        }
      ]
    },
    {
      "cell_type": "code",
      "source": [
        "# 25. Write a function that takes a Pandas DataFrame and replaces all negative values in a specific column with zeros. Use NumPy operations within the Pandas DataFrame.\n",
        "\n",
        "\n",
        "def replace_negative_with_zero(df, column_name):\n",
        "    # Replace negative values with zero using NumPy where\n",
        "    df[column_name] = np.where(df[column_name] < 0, 0, df[column_name])\n",
        "\n",
        "    return df\n",
        "\n",
        "# Example usage\n",
        "if __name__ == \"__main__\":\n",
        "    # Creating a sample DataFrame\n",
        "    data = {\n",
        "        'A': [1, -2, 3, -4, 5],\n",
        "        'B': [-1, 2, -3, 4, -5],\n",
        "        'C': [10, -20, 30, -40, 50]\n",
        "    }\n",
        "\n",
        "    df = pd.DataFrame(data)\n",
        "    print(\"Original DataFrame:\\n\", df)\n",
        "\n",
        "    # Replacing negative values in column 'A'\n",
        "    modified_df = replace_negative_with_zero(df, 'A')\n",
        "\n",
        "    print(\"\\nModified DataFrame (negative values in column 'A' replaced with zeros):\\n\", modified_df)\n",
        "\n"
      ],
      "metadata": {
        "colab": {
          "base_uri": "https://localhost:8080/"
        },
        "id": "dIYbqHTnwp8N",
        "outputId": "56203a24-0655-44f1-e32a-2ab151659d98"
      },
      "execution_count": 71,
      "outputs": [
        {
          "output_type": "stream",
          "name": "stdout",
          "text": [
            "Original DataFrame:\n",
            "    A  B   C\n",
            "0  1 -1  10\n",
            "1 -2  2 -20\n",
            "2  3 -3  30\n",
            "3 -4  4 -40\n",
            "4  5 -5  50\n",
            "\n",
            "Modified DataFrame (negative values in column 'A' replaced with zeros):\n",
            "    A  B   C\n",
            "0  1 -1  10\n",
            "1  0  2 -20\n",
            "2  3 -3  30\n",
            "3  0  4 -40\n",
            "4  5 -5  50\n"
          ]
        }
      ]
    },
    {
      "cell_type": "code",
      "source": [
        "# 26. Access the 3rd element from the given NumPy array ,arr = np.array([10, 20, 30, 40, 50]).\n",
        "\n",
        "# Create the NumPy array\n",
        "arr = np.array([10, 20, 30, 40, 50])\n",
        "\n",
        "# Access the 3rd element (index 2)\n",
        "third_element = arr[2]\n",
        "\n",
        "# Print the result\n",
        "print(\"Original Array:\", arr)\n",
        "print(\"The 3rd element is:\", third_element)\n",
        "\n"
      ],
      "metadata": {
        "colab": {
          "base_uri": "https://localhost:8080/"
        },
        "id": "HRZxEk8dxjXN",
        "outputId": "aa37d84c-944c-4e43-8c18-2d5c2f0b1902"
      },
      "execution_count": 72,
      "outputs": [
        {
          "output_type": "stream",
          "name": "stdout",
          "text": [
            "Original Array: [10 20 30 40 50]\n",
            "The 3rd element is: 30\n"
          ]
        }
      ]
    },
    {
      "cell_type": "code",
      "source": [
        "# 27. Retrieve the element at index (1, 2) from the 2D NumPy array  arr_2d = np.array([[1, 2, 3],[4, 5, 6], [7, 8, 9]])\n",
        "\n",
        "# Create the 2D NumPy array\n",
        "arr_2d = np.array([[1, 2, 3],\n",
        "                   [4, 5, 6],\n",
        "                   [7, 8, 9]])\n",
        "\n",
        "# Access the element at index (1, 2)\n",
        "element = arr_2d[1, 2]\n",
        "\n",
        "# Print the result\n",
        "print(\"Original 2D Array:\",arr_2d)\n",
        "print(\"The element at index (1, 2) is:\", element)\n",
        "\n",
        "\n"
      ],
      "metadata": {
        "colab": {
          "base_uri": "https://localhost:8080/"
        },
        "id": "dKTV2GLD1AKL",
        "outputId": "1ae2b9c7-8138-4ebd-cf00-4f249db1c9c5"
      },
      "execution_count": 73,
      "outputs": [
        {
          "output_type": "stream",
          "name": "stdout",
          "text": [
            "Original 2D Array: [[1 2 3]\n",
            " [4 5 6]\n",
            " [7 8 9]]\n",
            "The element at index (1, 2) is: 6\n"
          ]
        }
      ]
    },
    {
      "cell_type": "code",
      "source": [
        "# 28. Using boolean indexing, extract elements greater than 5 from the given NumPy array , arr = np.array([3, 8, 2, 10, 5, 7]).\n",
        "\n",
        "# Create the NumPy array\n",
        "arr = np.array([3, 8, 2, 10, 5, 7])\n",
        "\n",
        "# Use boolean indexing to extract elements greater than 5\n",
        "greater_than_five = arr[arr > 5]\n",
        "\n",
        "# Print the result\n",
        "print(\"Original Array:\", arr)\n",
        "\n",
        "print(\"Elements greater than 5:\", greater_than_five)\n",
        "\n"
      ],
      "metadata": {
        "colab": {
          "base_uri": "https://localhost:8080/"
        },
        "id": "W7KACbze15S_",
        "outputId": "56a09f1c-72d4-48fb-e7ad-24cb38a5757c"
      },
      "execution_count": 74,
      "outputs": [
        {
          "output_type": "stream",
          "name": "stdout",
          "text": [
            "Original Array: [ 3  8  2 10  5  7]\n",
            "Elements greater than 5: [ 8 10  7]\n"
          ]
        }
      ]
    },
    {
      "cell_type": "code",
      "source": [
        "# 29. Perform basic slicing to extract elements from index 2 to 5 (inclusive) from the given NumPy array, arr = np.array([1, 2, 3, 4, 5, 6, 7, 8, 9]).\n",
        "\n",
        "# Create the NumPy array\n",
        "arr = np.array([1, 2, 3, 4, 5, 6, 7, 8, 9])\n",
        "\n",
        "# Perform slicing to extract elements from index 2 to 5 (inclusive)\n",
        "sliced_array = arr[2:6]  # This will include indices 2, 3, 4, and 5\n",
        "\n",
        "# Print the result\n",
        "print(\"Original Array:\", arr)\n",
        "print(\"Extracted elements from index 2 to 5 (inclusive):\", sliced_array)\n"
      ],
      "metadata": {
        "colab": {
          "base_uri": "https://localhost:8080/"
        },
        "id": "92bkqub92YpG",
        "outputId": "12c94945-14af-4016-9844-2a4cf0ccfbe7"
      },
      "execution_count": 75,
      "outputs": [
        {
          "output_type": "stream",
          "name": "stdout",
          "text": [
            "Original Array: [1 2 3 4 5 6 7 8 9]\n",
            "Extracted elements from index 2 to 5 (inclusive): [3 4 5 6]\n"
          ]
        }
      ]
    },
    {
      "cell_type": "code",
      "source": [
        "# 30. Slice the 2D NumPy array to extract the sub-array `[[2, 3], [5, 6]]` from the given array , arr_2d = np.array([[1, 2, 3], [4, 5, 6],  [7, 8, 9]]).\n",
        "\n",
        "\n",
        "# Create the 2D NumPy array\n",
        "arr_2d = np.array([[1, 2, 3],\n",
        "                   [4, 5, 6],\n",
        "                   [7, 8, 9]])\n",
        "\n",
        "# Slice the array to extract the sub-array [[2, 3], [5, 6]]\n",
        "sub_array = arr_2d[0:2, 1:3]\n",
        "\n",
        "# Print the result\n",
        "print(\"Original 2D Array:\\n\", arr_2d)\n",
        "print(\"\\nExtracted Sub-array:\\n\", sub_array)\n",
        "\n",
        "\n"
      ],
      "metadata": {
        "id": "zNfPp5ff3BKw",
        "colab": {
          "base_uri": "https://localhost:8080/"
        },
        "outputId": "9ce1ddcc-7f42-45ef-d748-5c80d49fe686"
      },
      "execution_count": 76,
      "outputs": [
        {
          "output_type": "stream",
          "name": "stdout",
          "text": [
            "Original 2D Array:\n",
            " [[1 2 3]\n",
            " [4 5 6]\n",
            " [7 8 9]]\n",
            "\n",
            "Extracted Sub-array:\n",
            " [[2 3]\n",
            " [5 6]]\n"
          ]
        }
      ]
    },
    {
      "cell_type": "code",
      "source": [
        "# 31.Write a NumPy function to extract elements in specific order from a given 2D array based on indices provided in another array.\n",
        "\n",
        "\n",
        "def extract_elements(arr_2d, row_indices, col_indices):\n",
        "    # Use advanced indexing to extract specified elements\n",
        "    return arr_2d[row_indices[:, None], col_indices]\n",
        "\n",
        "# Example usage\n",
        "if __name__ == \"__main__\":\n",
        "    # Define a 2D NumPy array\n",
        "    arr_2d = np.array([[1, 2, 3],\n",
        "                       [4, 5, 6],\n",
        "                       [7, 8, 9]])\n",
        "\n",
        "    # Define arrays of row and column indices to extract\n",
        "    row_indices = np.array([0, 1])  # From first row (index 0) and second row (index 1)\n",
        "    col_indices = np.array([1, 2])  # From first row: index 1 and second row: index 2\n",
        "\n",
        "    # Extract the elements based on the specified indices\n",
        "    extracted_elements = extract_elements(arr_2d, row_indices, col_indices)\n",
        "\n",
        "    # Print the result\n",
        "    print(\"Extracted Elements:\\n\", extracted_elements)\n",
        "\n",
        "\n",
        "\n"
      ],
      "metadata": {
        "colab": {
          "base_uri": "https://localhost:8080/"
        },
        "id": "0Is6iyf5-gWR",
        "outputId": "4a623127-94e2-4315-cb11-2a3f4de830e8"
      },
      "execution_count": 77,
      "outputs": [
        {
          "output_type": "stream",
          "name": "stdout",
          "text": [
            "Extracted Elements:\n",
            " [[2 3]\n",
            " [5 6]]\n"
          ]
        }
      ]
    },
    {
      "cell_type": "code",
      "source": [
        "# 32. Create a NumPy function that filters elements greater than a threshold from a given 1D array using boolean indexing.\n",
        "\n",
        "\n",
        "\n",
        "def filter_elements_greater_than_threshold(arr, threshold):\n",
        "    # Use boolean indexing to filter elements greater than the threshold\n",
        "    filtered_array = arr[arr > threshold]\n",
        "\n",
        "    return filtered_array\n",
        "\n",
        "# Example usage\n",
        "if __name__ == \"__main__\":\n",
        "    # Define a 1D NumPy array\n",
        "    arr = np.array([1, 2, 3, 4, 5, 6, 7, 8, 9])\n",
        "\n",
        "    # Define the threshold\n",
        "    threshold = 5\n",
        "\n",
        "    # Filter the elements greater than the threshold\n",
        "    result = filter_elements_greater_than_threshold(arr, threshold)\n",
        "\n",
        "    # Print the result\n",
        "    print(\"Original Array:\", arr)\n",
        "    print(\"Elements greater than\", threshold, \":\", result)\n",
        "\n"
      ],
      "metadata": {
        "colab": {
          "base_uri": "https://localhost:8080/"
        },
        "id": "E69YsOtn-2Sn",
        "outputId": "2f142399-5a1c-4a91-aaa2-3576f17e81d5"
      },
      "execution_count": 78,
      "outputs": [
        {
          "output_type": "stream",
          "name": "stdout",
          "text": [
            "Original Array: [1 2 3 4 5 6 7 8 9]\n",
            "Elements greater than 5 : [6 7 8 9]\n"
          ]
        }
      ]
    },
    {
      "cell_type": "code",
      "source": [
        "# 33. Develop a NumPy function that extracts specific elements from a 3D array using indices provided in three separate arrays for each dimension.\n",
        "\n",
        "\n",
        "def extract_elements(arr, x_indices, y_indices, z_indices):\n",
        "    # Use advanced indexing to extract the elements\n",
        "    return arr[x_indices, y_indices, z_indices]\n",
        "\n",
        "# Example usage\n",
        "# Creating a smaller 3D array with shape (3, 3, 3) and integer values\n",
        "arr = np.random.randint(0, 100, size=(3, 3, 3))  # Random integers between 0 and 100\n",
        "\n",
        "# Display the array for reference\n",
        "print(\"Original 3D array (3x3x3) with integer values:\")\n",
        "print(arr)\n",
        "\n",
        "# Indices for each dimension\n",
        "x_indices = np.array([0, 1])  # x indices (along the first dimension)\n",
        "y_indices = np.array([1, 2])  # y indices (along the second dimension)\n",
        "z_indices = np.array([2, 0])  # z indices (along the third dimension)\n",
        "\n",
        "# Extracting elements using the function\n",
        "extracted_elements = extract_elements(arr, x_indices, y_indices, z_indices)\n",
        "\n",
        "# Displaying the extracted elements\n",
        "print(\"\\nExtracted elements from the array:\")\n",
        "print(extracted_elements)\n",
        "\n",
        "\n",
        "\n"
      ],
      "metadata": {
        "colab": {
          "base_uri": "https://localhost:8080/"
        },
        "id": "BPC0KQkbBDEs",
        "outputId": "9eb1d080-ed36-4bbc-9d2c-216f21a3b9e6"
      },
      "execution_count": 79,
      "outputs": [
        {
          "output_type": "stream",
          "name": "stdout",
          "text": [
            "Original 3D array (3x3x3) with integer values:\n",
            "[[[15 31 78]\n",
            "  [73 85 79]\n",
            "  [ 7  6 55]]\n",
            "\n",
            " [[74 99 92]\n",
            "  [81  1  1]\n",
            "  [60 54 12]]\n",
            "\n",
            " [[33 51 34]\n",
            "  [47 61 96]\n",
            "  [86  6 73]]]\n",
            "\n",
            "Extracted elements from the array:\n",
            "[79 60]\n"
          ]
        }
      ]
    },
    {
      "cell_type": "code",
      "source": [
        "# 34. Write a NumPy function that returns elements from an array where both two conditions are satisfied using boolean indexing.\n",
        "\n",
        "\n",
        "def filter_elements_with_conditions(arr, condition1, condition2):\n",
        "    # Create boolean masks based on the conditions\n",
        "    mask1 = condition1(arr)\n",
        "    mask2 = condition2(arr)\n",
        "\n",
        "    # Combine both masks using the logical AND operator\n",
        "    combined_mask = mask1 & mask2\n",
        "\n",
        "    # Use boolean indexing to select elements that meet both conditions\n",
        "    return arr[combined_mask]\n",
        "\n",
        "# Example usage\n",
        "if __name__ == \"__main__\":\n",
        "    # Create a sample 1D NumPy array\n",
        "    array_1d = np.array([1, 5, 10, 15, 20, 25, 30, 35, 40])\n",
        "\n",
        "    # Define conditions: elements greater than 10 and less than 30\n",
        "    condition1 = lambda x: x > 10\n",
        "    condition2 = lambda x: x < 30\n",
        "\n",
        "    # Filter the elements based on the specified conditions\n",
        "    filtered_elements = filter_elements_with_conditions(array_1d, condition1, condition2)\n",
        "\n",
        "    # Print the result\n",
        "    print(\"Original Array:\", array_1d)\n",
        "    print(\"Filtered Elements:\", filtered_elements)\n",
        "\n"
      ],
      "metadata": {
        "colab": {
          "base_uri": "https://localhost:8080/"
        },
        "id": "ZenYPqLEBaxv",
        "outputId": "271ed7b9-0588-4ad0-cc38-0159ea8eaa13"
      },
      "execution_count": 80,
      "outputs": [
        {
          "output_type": "stream",
          "name": "stdout",
          "text": [
            "Original Array: [ 1  5 10 15 20 25 30 35 40]\n",
            "Filtered Elements: [15 20 25]\n"
          ]
        }
      ]
    },
    {
      "cell_type": "code",
      "source": [
        "# 35. Create a NumPy function that extracts elements from a 2D array using row and column indices provided in separate arrays.\n",
        "\n",
        "\n",
        "def extract_elements(arr_2d, row_indices, col_indices):\n",
        "    # Use advanced indexing to extract specified elements\n",
        "    return arr_2d[row_indices, col_indices]\n",
        "\n",
        "# Example usage\n",
        "if __name__ == \"__main__\":\n",
        "    # Define a 2D NumPy array\n",
        "    arr_2d = np.array([[1, 2, 3],\n",
        "                       [4, 5, 6],\n",
        "                       [7, 8, 9]])\n",
        "\n",
        "    # Define arrays of indices for rows and columns\n",
        "    row_indices = np.array([0, 1])  # Select from the first row (index 0) and second row (index 1)\n",
        "    col_indices = np.array([1, 2])  # Select columns at index 1 and index 2\n",
        "\n",
        "    # Extract the elements based on the specified indices\n",
        "    extracted_elements = extract_elements(arr_2d, row_indices, col_indices)\n",
        "\n",
        "    # Print the result\n",
        "    print(\"Extracted Elements:\\n\", extracted_elements)\n",
        "\n"
      ],
      "metadata": {
        "colab": {
          "base_uri": "https://localhost:8080/"
        },
        "id": "OZ_foiH6DyZL",
        "outputId": "f982a379-a412-4558-a32b-26e991d59ecf"
      },
      "execution_count": 81,
      "outputs": [
        {
          "output_type": "stream",
          "name": "stdout",
          "text": [
            "Extracted Elements:\n",
            " [2 6]\n"
          ]
        }
      ]
    },
    {
      "cell_type": "code",
      "source": [
        "# 36. Given an array arr of shape (3, 3), add a scalar value of 5 to each element using NumPy broadcasting.\n",
        "\n",
        "\n",
        "def add_scalar_to_array(arr, scalar):\n",
        "    return arr + scalar\n",
        "\n",
        "# Example usage\n",
        "if __name__ == \"__main__\":\n",
        "    # Create a 2D NumPy array of shape (3, 3)\n",
        "    array_2d = np.array([[1, 2, 3],\n",
        "                         [4, 5, 6],\n",
        "                         [7, 8, 9]])\n",
        "\n",
        "    # Define the scalar value\n",
        "    scalar_value = 5\n",
        "\n",
        "    # Add the scalar to the array using the function\n",
        "    result_array = add_scalar_to_array(array_2d, scalar_value)\n",
        "\n",
        "    # Print the original and resulting arrays\n",
        "    print(\"Original Array:\\n\", array_2d)\n",
        "    print(\"Resulting Array after adding\", scalar_value, \":\\n\", result_array)\n"
      ],
      "metadata": {
        "colab": {
          "base_uri": "https://localhost:8080/"
        },
        "id": "iDWTEq62EFNJ",
        "outputId": "9cf75ea4-1872-49dd-fd19-2ddd3355dff4"
      },
      "execution_count": 82,
      "outputs": [
        {
          "output_type": "stream",
          "name": "stdout",
          "text": [
            "Original Array:\n",
            " [[1 2 3]\n",
            " [4 5 6]\n",
            " [7 8 9]]\n",
            "Resulting Array after adding 5 :\n",
            " [[ 6  7  8]\n",
            " [ 9 10 11]\n",
            " [12 13 14]]\n"
          ]
        }
      ]
    },
    {
      "cell_type": "code",
      "source": [
        "# 37. Consider two arrays arr1 of shape (1, 3) and arr2 of shape (3, 4). Multiply each row of arr2 by the corresponding element in arr1 using NumPy broadcasting.\n",
        "\n",
        "\n",
        "def multiply_with_broadcasting(arr1, arr2):\n",
        "    # Ensure arr1 has shape (3,) for proper broadcasting\n",
        "    return arr1.flatten()[:, np.newaxis] * arr2\n",
        "\n",
        "# Example usage\n",
        "if __name__ == \"__main__\":\n",
        "    # Define a 1D array of shape (3,)\n",
        "    arr1 = np.array([2, 3, 4])  # Shape (3,) - no need for extra dimension\n",
        "\n",
        "    # Define a 2D array of shape (3, 4)\n",
        "    arr2 = np.array([[1, 2, 3, 4],\n",
        "                     [5, 6, 7, 8],\n",
        "                     [9, 10, 11, 12]])  # Shape (3, 4)\n",
        "\n",
        "    # Perform multiplication using the function\n",
        "    result = multiply_with_broadcasting(arr1, arr2)\n",
        "\n",
        "    # Print the result\n",
        "    print(\"Array 1:\\n\", arr1)\n",
        "    print(\"Array 2:\\n\", arr2)\n",
        "    print(\"\\nResulting Array:\\n\", result)\n",
        "\n"
      ],
      "metadata": {
        "colab": {
          "base_uri": "https://localhost:8080/"
        },
        "id": "I_IGsI5kETGL",
        "outputId": "8fcb7421-e413-4083-d0b1-9de2bd6d3121"
      },
      "execution_count": 83,
      "outputs": [
        {
          "output_type": "stream",
          "name": "stdout",
          "text": [
            "Array 1:\n",
            " [2 3 4]\n",
            "Array 2:\n",
            " [[ 1  2  3  4]\n",
            " [ 5  6  7  8]\n",
            " [ 9 10 11 12]]\n",
            "\n",
            "Resulting Array:\n",
            " [[ 2  4  6  8]\n",
            " [15 18 21 24]\n",
            " [36 40 44 48]]\n"
          ]
        }
      ]
    },
    {
      "cell_type": "code",
      "source": [
        "# 38. Given a 1D array arr1 of shape (1, 4) and a 2D array arr2 of shape (4, 3), add arr1 to each row of arr2 using NumPy broadcasting.\n",
        "\n",
        "def add_vector_to_matrix(arr1, arr2):\n",
        "    # Ensure arr1 is reshaped to be compatible for broadcasting with arr2\n",
        "    return arr2 + arr1.flatten()[:, np.newaxis]\n",
        "\n",
        "# Example usage\n",
        "if __name__ == \"__main__\":\n",
        "    # Define a 1D array of shape (4,)\n",
        "    arr1 = np.array([2, 3, 4, 5])   # Shape (4,) - no need for extra dimension\n",
        "\n",
        "    # Define a 2D array of shape (4,3)\n",
        "    arr2 = np.array([[1, 2, 3],\n",
        "                     [4, 5, 6],\n",
        "                     [7, 8, 9],\n",
        "                     [10,11,12]])   # Shape (4,3)\n",
        "\n",
        "    # Perform addition using the function\n",
        "    result = add_vector_to_matrix(arr1.reshape(4, -1), arr2)\n",
        "\n",
        "    # Print the result\n",
        "    print(\"Resulting Array:\\n\", result)\n",
        "\n",
        "\n",
        "\n"
      ],
      "metadata": {
        "colab": {
          "base_uri": "https://localhost:8080/"
        },
        "id": "drKVZqWkEf_x",
        "outputId": "69b55257-a366-40ea-e32e-6f08280e2a23"
      },
      "execution_count": 84,
      "outputs": [
        {
          "output_type": "stream",
          "name": "stdout",
          "text": [
            "Resulting Array:\n",
            " [[ 3  4  5]\n",
            " [ 7  8  9]\n",
            " [11 12 13]\n",
            " [15 16 17]]\n"
          ]
        }
      ]
    },
    {
      "cell_type": "code",
      "source": [
        "# 39. Consider two arrays arr1 of shape (3, 1) and arr2 of shape (1, 3). Add these arrays using NumPy broadcasting.\n",
        "\n",
        "\n",
        "def add_arrays_with_broadcasting(arr1, arr2):\n",
        "    return arr1 + arr2\n",
        "\n",
        "# Example usage\n",
        "if __name__ == \"__main__\":\n",
        "    # Define a 2D array of shape (3, 1)\n",
        "    arr1 = np.array([[1],\n",
        "                     [2],\n",
        "                     [3]])  # Shape (3, 1)\n",
        "\n",
        "    # Define a 2D array of shape (1, 3)\n",
        "    arr2 = np.array([[4, 5, 6]])  # Shape (1, 3)\n",
        "\n",
        "    # Perform addition using the function\n",
        "    result = add_arrays_with_broadcasting(arr1, arr2)\n",
        "\n",
        "    # Print the result\n",
        "    print(\"Array 1:\\n\", arr1)\n",
        "    print(\"Array 2:\\n\", arr2)\n",
        "    print(\"\\nResulting Array:\\n\", result)\n",
        "\n",
        "\n"
      ],
      "metadata": {
        "id": "IzOxDxooFQxV",
        "colab": {
          "base_uri": "https://localhost:8080/"
        },
        "outputId": "abc93e57-c839-41ac-9782-1b363265ef4e"
      },
      "execution_count": 85,
      "outputs": [
        {
          "output_type": "stream",
          "name": "stdout",
          "text": [
            "Array 1:\n",
            " [[1]\n",
            " [2]\n",
            " [3]]\n",
            "Array 2:\n",
            " [[4 5 6]]\n",
            "\n",
            "Resulting Array:\n",
            " [[5 6 7]\n",
            " [6 7 8]\n",
            " [7 8 9]]\n"
          ]
        }
      ]
    },
    {
      "cell_type": "code",
      "source": [
        "# 40. Given arrays arr1 of shape (2, 3) and arr2 of shape (2, 2), perform multiplication using NumPy broadcasting. Handle the shape incompatibility.\n",
        "\n",
        "\n",
        "def multiply_with_broadcasting(arr1, arr2):\n",
        "    # Reshape arr2 to (2, 1, 2) for broadcasting with arr1\n",
        "    arr2_reshaped = arr2[:, :, np.newaxis]  # Shape becomes (2, 2, 1)\n",
        "\n",
        "    # Now arr1 has shape (2, 3) and arr2_reshaped has shape (2, 2, 1)\n",
        "    arr1_repeated = np.repeat(arr1[:, np.newaxis, :], arr2.shape[1], axis=1)  # Shape becomes (2, 2, 3)\n",
        "\n",
        "    # Perform multiplication\n",
        "    result = arr1_repeated * arr2_reshaped\n",
        "\n",
        "    return result\n",
        "\n",
        "# Example usage\n",
        "if __name__ == \"__main__\":\n",
        "    # Define a 2D array of shape (2, 3)\n",
        "    arr1 = np.array([[1, 2, 3],\n",
        "                     [4, 5, 6]])   # Shape (2, 3)\n",
        "\n",
        "    # Define a 2D array of shape (2, 2)\n",
        "    arr2 = np.array([[7, 8],\n",
        "                     [9, 10]])     # Shape (2, 2)\n",
        "\n",
        "    # Perform multiplication using the function\n",
        "    result = multiply_with_broadcasting(arr1, arr2)\n",
        "\n",
        "    # Print the result\n",
        "    print(\"Array 1:\\n\", arr1)\n",
        "    print(\"Array 2:\\n\", arr2)\n",
        "    print(\"\\nResulting Array:\\n\", result)\n",
        "\n"
      ],
      "metadata": {
        "colab": {
          "base_uri": "https://localhost:8080/"
        },
        "id": "0Sg7lHm74Nai",
        "outputId": "518e92b6-3d2f-47e4-b3a8-1dcf7d1231ef"
      },
      "execution_count": 86,
      "outputs": [
        {
          "output_type": "stream",
          "name": "stdout",
          "text": [
            "Array 1:\n",
            " [[1 2 3]\n",
            " [4 5 6]]\n",
            "Array 2:\n",
            " [[ 7  8]\n",
            " [ 9 10]]\n",
            "\n",
            "Resulting Array:\n",
            " [[[ 7 14 21]\n",
            "  [ 8 16 24]]\n",
            "\n",
            " [[36 45 54]\n",
            "  [40 50 60]]]\n"
          ]
        }
      ]
    },
    {
      "cell_type": "code",
      "source": [
        "# 41. Calculate column wise mean for the given array: arr = np.array([[1, 2, 3], [4, 5, 6]]) ,\n",
        "\n",
        "# Given array\n",
        "arr = np.array([[1, 2, 3],\n",
        "                 [4, 5, 6]])\n",
        "\n",
        "# Calculate column-wise mean\n",
        "column_means = arr.mean(axis=0)\n",
        "\n",
        "# Print the result\n",
        "print(\"Original Array:\\n\", arr)\n",
        "print(\"Column-wise mean:\", column_means)\n",
        "\n"
      ],
      "metadata": {
        "colab": {
          "base_uri": "https://localhost:8080/"
        },
        "id": "3muwzfAn5FTW",
        "outputId": "0db3d4a8-8eb7-45cb-b408-1af554ac50e6"
      },
      "execution_count": 87,
      "outputs": [
        {
          "output_type": "stream",
          "name": "stdout",
          "text": [
            "Original Array:\n",
            " [[1 2 3]\n",
            " [4 5 6]]\n",
            "Column-wise mean: [2.5 3.5 4.5]\n"
          ]
        }
      ]
    },
    {
      "cell_type": "code",
      "source": [
        "# 42. Find maximum value in each row of the given array: arr = np.array([[1, 2, 3], [4, 5, 6]]).\n",
        "\n",
        "# Given array\n",
        "arr = np.array([[1, 2, 3],\n",
        "                 [4, 5, 6]])\n",
        "\n",
        "# Calculate maximum value in each row\n",
        "row_maximums = np.max(arr, axis=1)\n",
        "\n",
        "# Print the result\n",
        "print(\"Original Array:\\n\", arr)\n",
        "print(\"Maximum value in each row:\", row_maximums)\n"
      ],
      "metadata": {
        "colab": {
          "base_uri": "https://localhost:8080/"
        },
        "id": "ds_QpNay50pp",
        "outputId": "3eeacf47-725b-4b15-a3e0-de3d57285f92"
      },
      "execution_count": 88,
      "outputs": [
        {
          "output_type": "stream",
          "name": "stdout",
          "text": [
            "Original Array:\n",
            " [[1 2 3]\n",
            " [4 5 6]]\n",
            "Maximum value in each row: [3 6]\n"
          ]
        }
      ]
    },
    {
      "cell_type": "code",
      "source": [
        "# 43. For the given array, find indices of maximum value in each column. arr = np.array([[1, 2, 3], [4, 5, 6]]) .\n",
        "\n",
        "# Given array\n",
        "arr = np.array([[1, 2, 3],\n",
        "                 [4, 5, 6]])\n",
        "\n",
        "# Find indices of maximum value in each column\n",
        "max_indices = np.argmax(arr, axis=0)\n",
        "\n",
        "# Print the result\n",
        "print(\"Original Array:\\n\", arr)\n",
        "print(\"Indices of maximum values in each column:\", max_indices)\n"
      ],
      "metadata": {
        "colab": {
          "base_uri": "https://localhost:8080/"
        },
        "id": "-2cfhHT16JwM",
        "outputId": "1cf3f3ec-2eec-47fe-c73e-b331dc197de0"
      },
      "execution_count": 89,
      "outputs": [
        {
          "output_type": "stream",
          "name": "stdout",
          "text": [
            "Original Array:\n",
            " [[1 2 3]\n",
            " [4 5 6]]\n",
            "Indices of maximum values in each column: [1 1 1]\n"
          ]
        }
      ]
    },
    {
      "cell_type": "code",
      "source": [
        "# 44. For the given array, apply custom function to calculate moving sum along rows:arr = np.array([[1, 2, 3], [4, 5, 6]]) .\n",
        "\n",
        "\n",
        "def moving_sum(arr):\n",
        "    return np.convolve(arr, np.ones(2), 'valid')\n",
        "\n",
        "def apply_moving_sum(arr):\n",
        "    return np.apply_along_axis(moving_sum, axis=1, arr=arr)\n",
        "\n",
        "# Given array\n",
        "arr = np.array([[1, 2, 3],\n",
        "                 [4, 5, 6]])\n",
        "\n",
        "# Calculate moving sum along rows\n",
        "result = apply_moving_sum(arr)\n",
        "\n",
        "# Print the result\n",
        "print(\"Original Array:\\n\", arr)\n",
        "print(\"\\nMoving sum along rows:\\n\", result)\n"
      ],
      "metadata": {
        "colab": {
          "base_uri": "https://localhost:8080/"
        },
        "id": "ruwiqADC6lGU",
        "outputId": "a07ad803-e3a1-4479-bb71-eafa1514bf11"
      },
      "execution_count": 90,
      "outputs": [
        {
          "output_type": "stream",
          "name": "stdout",
          "text": [
            "Original Array:\n",
            " [[1 2 3]\n",
            " [4 5 6]]\n",
            "\n",
            "Moving sum along rows:\n",
            " [[ 3.  5.]\n",
            " [ 9. 11.]]\n"
          ]
        }
      ]
    },
    {
      "cell_type": "code",
      "source": [
        "# 45. In the given array, check if all elements in each column are even : arr = np.array([[2, 4, 6], [3, 5, 7]]).\n",
        "\n",
        "\n",
        "# Given array\n",
        "arr = np.array([[2, 4, 6],\n",
        "                 [3, 5, 7]])\n",
        "\n",
        "# Check if all elements in each column are even\n",
        "are_all_even = np.all(arr % 2 == 0, axis=0)\n",
        "\n",
        "# Print the result\n",
        "print(\"Original Array:\\n\", arr)\n",
        "print(\"Are all elements in each column even?\", are_all_even)\n"
      ],
      "metadata": {
        "colab": {
          "base_uri": "https://localhost:8080/"
        },
        "id": "B7-UjJ4H8CIA",
        "outputId": "0e135c8d-4e1f-4eba-ab0c-0adde8240fb5"
      },
      "execution_count": 91,
      "outputs": [
        {
          "output_type": "stream",
          "name": "stdout",
          "text": [
            "Original Array:\n",
            " [[2 4 6]\n",
            " [3 5 7]]\n",
            "Are all elements in each column even? [False False False]\n"
          ]
        }
      ]
    },
    {
      "cell_type": "code",
      "source": [
        "# 46. Given a NumPy array arr, reshape it into a matrix of dimensions `m` rows and `n` columns. Return the reshaped matrix. original_array = np.array([1, 2, 3, 4, 5, 6])\n",
        "\n",
        "\n",
        "# Given original array\n",
        "original_array = np.array([1, 2, 3, 4, 5, 6])\n",
        "\n",
        "# Specify the desired shape (m rows and n columns)\n",
        "m = 2  # Number of rows\n",
        "n = 3  # Number of columns\n",
        "\n",
        "# Reshape the array\n",
        "reshaped_matrix = original_array.reshape(m, n)\n",
        "\n",
        "# Print the reshaped matrix\n",
        "print(\"Original Array:\\n\", original_array)\n",
        "print(\"\\nReshaped Matrix:\\n\", reshaped_matrix)\n",
        "\n"
      ],
      "metadata": {
        "id": "eSPwC8bY8gLZ",
        "colab": {
          "base_uri": "https://localhost:8080/"
        },
        "outputId": "1a8e7ce0-a17d-4973-dbd2-68b6b21eb217"
      },
      "execution_count": 92,
      "outputs": [
        {
          "output_type": "stream",
          "name": "stdout",
          "text": [
            "Original Array:\n",
            " [1 2 3 4 5 6]\n",
            "\n",
            "Reshaped Matrix:\n",
            " [[1 2 3]\n",
            " [4 5 6]]\n"
          ]
        }
      ]
    },
    {
      "cell_type": "code",
      "source": [
        "# 47. Create a function that takes a matrix as input and returns the flattened array. input_matrix = np.array([[1, 2, 3], [4, 5, 6]])\n",
        "\n",
        "\n",
        "def flatten_matrix(input_matrix):\n",
        "    return input_matrix.flatten()  # or use input_matrix.ravel()\n",
        "\n",
        "# Example usage\n",
        "if __name__ == \"__main__\":\n",
        "    # Given input matrix\n",
        "    input_matrix = np.array([[1, 2, 3],\n",
        "                              [4, 5, 6]])\n",
        "\n",
        "    # Flatten the matrix\n",
        "    flattened_array = flatten_matrix(input_matrix)\n",
        "\n",
        "    # Print the result\n",
        "    print(\"Original Matrix:\\n\", input_matrix)\n",
        "    print(\"Flattened Array:\", flattened_array)\n"
      ],
      "metadata": {
        "colab": {
          "base_uri": "https://localhost:8080/"
        },
        "id": "1Obz7fl1WkLl",
        "outputId": "6da2c1f9-86d5-4b46-f144-7db214f9cc18"
      },
      "execution_count": 93,
      "outputs": [
        {
          "output_type": "stream",
          "name": "stdout",
          "text": [
            "Original Matrix:\n",
            " [[1 2 3]\n",
            " [4 5 6]]\n",
            "Flattened Array: [1 2 3 4 5 6]\n"
          ]
        }
      ]
    },
    {
      "cell_type": "code",
      "source": [
        "# 48. Write a function that concatenates two given arrays along a specified axis. array1 = np.array([[1, 2], [3, 4]]) array2 = np.array([[5, 6], [7, 8]]).\n",
        "\n",
        "\n",
        "def concatenate_arrays(array1, array2, axis=0):\n",
        "    return np.concatenate((array1, array2), axis=axis)\n",
        "\n",
        "# Example usage\n",
        "if __name__ == \"__main__\":\n",
        "    # Given arrays\n",
        "    array1 = np.array([[1, 2],\n",
        "                       [3, 4]])\n",
        "\n",
        "    array2 = np.array([[5, 6],\n",
        "                       [7, 8]])\n",
        "\n",
        "    # Concatenate the arrays along axis 0 (rows)\n",
        "    result_axis_0 = concatenate_arrays(array1, array2, axis=0)\n",
        "\n",
        "    # Concatenate the arrays along axis 1 (columns)\n",
        "    result_axis_1 = concatenate_arrays(array1, array2, axis=1)\n",
        "\n",
        "    # Print the results\n",
        "    print(\"Concatenated along axis 0:\\n\", result_axis_0)\n",
        "    print(\"Concatenated along axis 1:\\n\", result_axis_1)\n",
        "\n"
      ],
      "metadata": {
        "colab": {
          "base_uri": "https://localhost:8080/"
        },
        "id": "R4pN9wTNW4uf",
        "outputId": "bf12d004-a361-4264-eeb1-9c60282421af"
      },
      "execution_count": 94,
      "outputs": [
        {
          "output_type": "stream",
          "name": "stdout",
          "text": [
            "Concatenated along axis 0:\n",
            " [[1 2]\n",
            " [3 4]\n",
            " [5 6]\n",
            " [7 8]]\n",
            "Concatenated along axis 1:\n",
            " [[1 2 5 6]\n",
            " [3 4 7 8]]\n"
          ]
        }
      ]
    },
    {
      "cell_type": "code",
      "source": [
        "# 49. Create a function that splits an array into multiple sub-arrays along a specified axis. original_array = np.array([[1, 2, 3], [4, 5, 6], [7, 8, 9]]).\n",
        "\n",
        "\n",
        "def split_array(original_array, num_splits, axis=0):\n",
        "    return np.array_split(original_array, num_splits, axis=axis)\n",
        "\n",
        "# Example usage\n",
        "if __name__ == \"__main__\":\n",
        "    # Given original array\n",
        "    original_array = np.array([[1, 2, 3],\n",
        "                                [4, 5, 6],\n",
        "                                [7, 8, 9]])\n",
        "\n",
        "    # Split the array into 3 parts along axis 0 (rows)\n",
        "    split_result_axis_0 = split_array(original_array, num_splits=3, axis=0)\n",
        "\n",
        "    # Split the array into 3 parts along axis 1 (columns)\n",
        "    split_result_axis_1 = split_array(original_array, num_splits=3, axis=1)\n",
        "\n",
        "    # Print the results\n",
        "    print(\"Split along axis 0:\")\n",
        "    for i, arr in enumerate(split_result_axis_0):\n",
        "        print(f\"Sub-array {i}:\\n{arr}\")\n",
        "\n",
        "    print(\"\\nSplit along axis 1:\")\n",
        "    for i, arr in enumerate(split_result_axis_1):\n",
        "        print(f\"Sub-array {i}:\\n{arr}\")\n"
      ],
      "metadata": {
        "colab": {
          "base_uri": "https://localhost:8080/"
        },
        "id": "JONT7_TlXUvF",
        "outputId": "a478c01f-0cb3-4e5a-e206-a78c7be8e73d"
      },
      "execution_count": 95,
      "outputs": [
        {
          "output_type": "stream",
          "name": "stdout",
          "text": [
            "Split along axis 0:\n",
            "Sub-array 0:\n",
            "[[1 2 3]]\n",
            "Sub-array 1:\n",
            "[[4 5 6]]\n",
            "Sub-array 2:\n",
            "[[7 8 9]]\n",
            "\n",
            "Split along axis 1:\n",
            "Sub-array 0:\n",
            "[[1]\n",
            " [4]\n",
            " [7]]\n",
            "Sub-array 1:\n",
            "[[2]\n",
            " [5]\n",
            " [8]]\n",
            "Sub-array 2:\n",
            "[[3]\n",
            " [6]\n",
            " [9]]\n"
          ]
        }
      ]
    },
    {
      "cell_type": "code",
      "source": [
        "# 50. Write a function that inserts and then deletes elements from a given array at specified indices. original_array = np.array([1, 2, 3, 4, 5])\n",
        "                                                                                                      # indices_to_insert = [2, 4]\n",
        "                                                                                                      # values_to_insert = [10, 11]\n",
        "                                                                                                      # indices_to_delete = [1, 3]\n",
        "\n",
        "\n",
        "\n",
        "def insert_and_delete(original_array, indices_to_insert, values_to_insert, indices_to_delete):\n",
        "    # Insert values into the original array\n",
        "    modified_array = np.insert(original_array, indices_to_insert, values_to_insert)\n",
        "\n",
        "    # Delete specified elements from the modified array\n",
        "    # Note: Deletion should be done in reverse order to avoid index shifting issues\n",
        "    for index in sorted(indices_to_delete)[::-1]:\n",
        "        modified_array = np.delete(modified_array, index)\n",
        "\n",
        "    return modified_array\n",
        "\n",
        "# Example usage\n",
        "if __name__ == \"__main__\":\n",
        "    # Given original array\n",
        "    original_array = np.array([1, 2, 3, 4, 5])\n",
        "\n",
        "    # Indices to insert and their corresponding values\n",
        "    indices_to_insert = [2, 4]\n",
        "    values_to_insert = [10, 11]\n",
        "\n",
        "    # Indices to delete\n",
        "    indices_to_delete = [1, 3]\n",
        "\n",
        "    # Perform insertion and deletion\n",
        "    result_array = insert_and_delete(original_array, indices_to_insert, values_to_insert, indices_to_delete)\n",
        "\n",
        "    # Print the result\n",
        "    print(\"Modified Array:\", result_array)\n",
        "\n"
      ],
      "metadata": {
        "colab": {
          "base_uri": "https://localhost:8080/"
        },
        "id": "LBZyGrX1XvXj",
        "outputId": "1a745db4-60f2-4545-853d-f47a0e444fc6"
      },
      "execution_count": 96,
      "outputs": [
        {
          "output_type": "stream",
          "name": "stdout",
          "text": [
            "Modified Array: [ 1 10  4 11  5]\n"
          ]
        }
      ]
    },
    {
      "cell_type": "code",
      "source": [
        "# 51. Create a NumPy array `arr1` with random integers and another array `arr2` with integers from 1 to 10. Perform element-wise addition between `arr1` and `arr2`.\n",
        "\n",
        "\n",
        "\n",
        "def create_and_add_arrays():\n",
        "    # Create an array of random integers (e.g., shape (2, 5) for compatibility)\n",
        "    arr1 = np.random.randint(0, 10, size=(2, 5))  # Random integers between 0 and 9\n",
        "\n",
        "    # Create an array with integers from 1 to 10 (reshaped to match arr1)\n",
        "    arr2 = np.arange(1, 11).reshape(2, 5)  # Reshape to (2, 5) for compatibility\n",
        "\n",
        "    # Perform element-wise addition\n",
        "    result = arr1 + arr2\n",
        "\n",
        "    return arr1, arr2, result\n",
        "\n",
        "# Example usage\n",
        "if __name__ == \"__main__\":\n",
        "    arr1, arr2, result = create_and_add_arrays()\n",
        "\n",
        "    print(\"Array 1 (Random Integers):\\n\", arr1)\n",
        "    print(\"\\nArray 2 (Integers from 1 to 10):\\n\", arr2)\n",
        "    print(\"\\nResult of Element-wise Addition:\\n\", result)\n",
        "\n",
        "\n"
      ],
      "metadata": {
        "colab": {
          "base_uri": "https://localhost:8080/"
        },
        "id": "m1bfVgrXd3os",
        "outputId": "5032479d-9f87-4673-bf07-6a27e0ccde8b"
      },
      "execution_count": 97,
      "outputs": [
        {
          "output_type": "stream",
          "name": "stdout",
          "text": [
            "Array 1 (Random Integers):\n",
            " [[9 7 1 5 0]\n",
            " [8 1 6 8 4]]\n",
            "\n",
            "Array 2 (Integers from 1 to 10):\n",
            " [[ 1  2  3  4  5]\n",
            " [ 6  7  8  9 10]]\n",
            "\n",
            "Result of Element-wise Addition:\n",
            " [[10  9  4  9  5]\n",
            " [14  8 14 17 14]]\n"
          ]
        }
      ]
    },
    {
      "cell_type": "code",
      "source": [
        "# 52. Generate a NumPy array `arr1` with sequential integers from 10 to 1 and another array `arr2` with integers from 1 to 10. Subtract `arr2` from `arr1` element-wise.\n",
        "\n",
        "\n",
        "# Create an array with sequential integers from 10 to 1\n",
        "arr1 = np.arange(10, 0, -1)  # Start at 10, stop before 0, step -1\n",
        "\n",
        "# Create an array with integers from 1 to 10\n",
        "arr2 = np.arange(1, 11)  # Start at 1, stop before 11\n",
        "\n",
        "# Perform element-wise subtraction\n",
        "result = arr1 - arr2\n",
        "\n",
        "# Print the results\n",
        "print(\"Array 1 (Sequential Integers from 10 to 1):\\n\", arr1)\n",
        "print(\"\\nArray 2 (Integers from 1 to 10):\\n\", arr2)\n",
        "print(\"\\nResult of Element-wise Subtraction (arr1 - arr2):\\n\", result)\n",
        "\n"
      ],
      "metadata": {
        "id": "m23qDg8sgjKQ",
        "colab": {
          "base_uri": "https://localhost:8080/"
        },
        "outputId": "4e18bb7b-830a-4461-f0df-08e8cddd14eb"
      },
      "execution_count": 98,
      "outputs": [
        {
          "output_type": "stream",
          "name": "stdout",
          "text": [
            "Array 1 (Sequential Integers from 10 to 1):\n",
            " [10  9  8  7  6  5  4  3  2  1]\n",
            "\n",
            "Array 2 (Integers from 1 to 10):\n",
            " [ 1  2  3  4  5  6  7  8  9 10]\n",
            "\n",
            "Result of Element-wise Subtraction (arr1 - arr2):\n",
            " [ 9  7  5  3  1 -1 -3 -5 -7 -9]\n"
          ]
        }
      ]
    },
    {
      "cell_type": "code",
      "source": [
        "# 53. Create a NumPy array `arr1` with random integers and another array `arr2` with integers from 1 to 5. Perform element-wise multiplication between `arr1` and `arr2`.\n",
        "\n",
        "\n",
        "# Create an array with random integers (for example, shape (3, 5))\n",
        "arr1 = np.random.randint(0, 10, size=(3, 5))  # Random integers between 0 and 9\n",
        "\n",
        "# Create an array with integers from 1 to 5\n",
        "arr2 = np.arange(1, 6)  # This creates an array [1, 2, 3, 4, 5]\n",
        "\n",
        "# To ensure arr2 can be multiplied with arr1, we need to reshape arr2\n",
        "arr2_reshaped = arr2.reshape(1, -1)  # Reshape arr2 to (1, 5) for broadcasting\n",
        "\n",
        "# Perform element-wise multiplication\n",
        "result = arr1 * arr2_reshaped\n",
        "\n",
        "# Print the results\n",
        "print(\"Array 1 (Random Integers):\\n\", arr1)\n",
        "print(\"\\nArray 2 (Integers from 1 to 5):\\n\", arr2)\n",
        "print(\"\\nResult of Element-wise Multiplication:\\n\", result)\n",
        "\n"
      ],
      "metadata": {
        "colab": {
          "base_uri": "https://localhost:8080/"
        },
        "id": "WFK7sFZUN2Je",
        "outputId": "8763ee6a-f806-4b30-f33c-43c3a9cc610c"
      },
      "execution_count": 99,
      "outputs": [
        {
          "output_type": "stream",
          "name": "stdout",
          "text": [
            "Array 1 (Random Integers):\n",
            " [[1 5 0 1 3]\n",
            " [7 4 1 2 7]\n",
            " [8 4 2 1 5]]\n",
            "\n",
            "Array 2 (Integers from 1 to 5):\n",
            " [1 2 3 4 5]\n",
            "\n",
            "Result of Element-wise Multiplication:\n",
            " [[ 1 10  0  4 15]\n",
            " [ 7  8  3  8 35]\n",
            " [ 8  8  6  4 25]]\n"
          ]
        }
      ]
    },
    {
      "cell_type": "code",
      "source": [
        "# 54. Generate a NumPy array `arr1` with even integers from 2 to 10 and another array `arr2` with integers from 1 to 5. Perform element-wise division of `arr1` by `arr2`.\n",
        "\n",
        "\n",
        "# Create an array with even integers from 2 to 10\n",
        "arr1 = np.arange(2, 11, 2)  # This generates [2, 4, 6, 8, 10]\n",
        "\n",
        "# Create an array with integers from 1 to 5\n",
        "arr2 = np.arange(1, 6)      # This generates [1, 2, 3, 4, 5]\n",
        "\n",
        "# Perform element-wise division\n",
        "result = arr1 / arr2\n",
        "\n",
        "# Print the results\n",
        "print(\"Array 1 (Even Integers from 2 to 10):\\n\", arr1)\n",
        "print(\"\\nArray 2 (Integers from 1 to 5):\\n\", arr2)\n",
        "print(\"\\nResult of Element-wise Division (arr1 / arr2):\\n\", result)\n",
        "\n"
      ],
      "metadata": {
        "colab": {
          "base_uri": "https://localhost:8080/"
        },
        "id": "OHOoH10MO0b8",
        "outputId": "1884b040-202c-47e1-f898-06d46f023cb5"
      },
      "execution_count": 100,
      "outputs": [
        {
          "output_type": "stream",
          "name": "stdout",
          "text": [
            "Array 1 (Even Integers from 2 to 10):\n",
            " [ 2  4  6  8 10]\n",
            "\n",
            "Array 2 (Integers from 1 to 5):\n",
            " [1 2 3 4 5]\n",
            "\n",
            "Result of Element-wise Division (arr1 / arr2):\n",
            " [2. 2. 2. 2. 2.]\n"
          ]
        }
      ]
    },
    {
      "cell_type": "code",
      "source": [
        "# 55. Create a NumPy array `arr1` with integers from 1 to 5 and another array `arr2` with the same numbers reversed. Calculate the exponentiation of `arr1` raised to the power of `arr2` element-wise.\n",
        "\n",
        "\n",
        "# Create an array with integers from 1 to 5\n",
        "arr1 = np.arange(1, 6)  # This generates [1, 2, 3, 4, 5]\n",
        "\n",
        "# Create another array with the same numbers reversed\n",
        "arr2 = arr1[::-1]       # This generates [5, 4, 3, 2, 1]\n",
        "\n",
        "# Perform element-wise exponentiation (arr1 raised to the power of arr2)\n",
        "result = arr1 ** arr2   # Alternatively, you can use np.power(arr1, arr2)\n",
        "\n",
        "# Print the results\n",
        "print(\"Array 1 (Integers from 1 to 5):\\n\", arr1)\n",
        "print(\"\\nArray 2 (Reversed Array):\\n\", arr2)\n",
        "print(\"\\nResult of Element-wise Exponentiation (arr1 ** arr2):\\n\", result)\n",
        "\n"
      ],
      "metadata": {
        "id": "xDd2ZtYYPBv_",
        "colab": {
          "base_uri": "https://localhost:8080/"
        },
        "outputId": "98b753d7-dfa0-4f93-a817-ac21c5a9ce6e"
      },
      "execution_count": 7,
      "outputs": [
        {
          "output_type": "stream",
          "name": "stdout",
          "text": [
            "Array 1 (Integers from 1 to 5):\n",
            " [1 2 3 4 5]\n",
            "\n",
            "Array 2 (Reversed Array):\n",
            " [5 4 3 2 1]\n",
            "\n",
            "Result of Element-wise Exponentiation (arr1 ** arr2):\n",
            " [ 1 16 27 16  5]\n"
          ]
        }
      ]
    },
    {
      "cell_type": "code",
      "source": [
        "# 56. Write a function that counts the occurrences of a specific substring within a NumPy array of strings. arr = np.array(['hello', 'world', 'hello', 'numpy', 'hello'])\n",
        "\n",
        "\n",
        "def count_substring(arr, substring):\n",
        "    return np.char.count(arr, substring)\n",
        "\n",
        "# Example usage\n",
        "if __name__ == \"__main__\":\n",
        "    # Given array of strings\n",
        "    arr = np.array(['hello', 'world', 'hello', 'numpy', 'hello'])\n",
        "\n",
        "    # Substring to search for\n",
        "    substring = 'hello'\n",
        "\n",
        "    # Count occurrences\n",
        "    counts = count_substring(arr, substring)\n",
        "\n",
        "    # Print the result\n",
        "    print(\"Array:\", arr)\n",
        "    print(\"Counts of substring '{}':\\n\".format(substring), counts)\n"
      ],
      "metadata": {
        "colab": {
          "base_uri": "https://localhost:8080/"
        },
        "id": "8AUFpod9PbSn",
        "outputId": "5363fa36-8c06-4229-9f37-8f34ec6b2454"
      },
      "execution_count": 9,
      "outputs": [
        {
          "output_type": "stream",
          "name": "stdout",
          "text": [
            "Array: ['hello' 'world' 'hello' 'numpy' 'hello']\n",
            "Counts of substring 'hello':\n",
            " [1 0 1 0 1]\n"
          ]
        }
      ]
    },
    {
      "cell_type": "code",
      "source": [
        "# 57. Write a function that extracts uppercase characters from a NumPy array of strings. arr = np.array(['Hello', 'World', 'OpenAI', 'GPT'])\n",
        "\n",
        "\n",
        "\n",
        "def extract_uppercase(arr):\n",
        "    # Use a list comprehension to extract uppercase characters from each string\n",
        "    uppercase_chars = [''.join([char for char in string if char.isupper()]) for string in arr]\n",
        "\n",
        "    return uppercase_chars\n",
        "\n",
        "# Example usage\n",
        "if __name__ == \"__main__\":\n",
        "    # Given array of strings\n",
        "    arr = np.array(['Hello', 'World', 'OpenAI', 'GPT'])\n",
        "\n",
        "    # Extract uppercase characters\n",
        "    result = extract_uppercase(arr)\n",
        "\n",
        "    # Print the result\n",
        "    print(\"Original Array:\", arr)\n",
        "    print(\"Uppercase characters extracted from each string:\\n\", result)\n",
        "\n",
        "\n"
      ],
      "metadata": {
        "colab": {
          "base_uri": "https://localhost:8080/"
        },
        "id": "_8bvu9qXP4sJ",
        "outputId": "f19b3b64-d2c6-486a-be6a-b8114a38c5b0"
      },
      "execution_count": 11,
      "outputs": [
        {
          "output_type": "stream",
          "name": "stdout",
          "text": [
            "Original Array: ['Hello' 'World' 'OpenAI' 'GPT']\n",
            "Uppercase characters extracted from each string:\n",
            " ['H', 'W', 'OAI', 'GPT']\n"
          ]
        }
      ]
    },
    {
      "cell_type": "code",
      "source": [
        "# 58. Write a function that replaces occurrences of a substring in a NumPy array of strings with a new string. arr = np.array(['apple', 'banana', 'grape', 'pineapple'])\n",
        "\n",
        "import numpy as np\n",
        "import re\n",
        "\n",
        "def replace_whole_word(arr, old_substring, new_substring):\n",
        "    # Use regex to replace only whole words\n",
        "    pattern = r'\\b' + re.escape(old_substring) + r'\\b'\n",
        "\n",
        "    # Replace using a list comprehension and re.sub\n",
        "    updated_arr = np.array([re.sub(pattern, new_substring, string) for string in arr])\n",
        "\n",
        "    return updated_arr\n",
        "\n",
        "# Example usage\n",
        "if __name__ == \"__main__\":\n",
        "    # Given array of strings\n",
        "    arr = np.array(['apple', 'banana', 'grape', 'pineapple'])\n",
        "\n",
        "    # Substring to replace and the new substring\n",
        "    old_substring = 'apple'\n",
        "    new_substring = 'orange'\n",
        "\n",
        "    # Replace occurrences\n",
        "    result = replace_whole_word(arr, old_substring, new_substring)\n",
        "\n",
        "    # Print the result\n",
        "    print(\"Original Array:\\n\", arr)\n",
        "    print(\"\\nUpdated Array after replacement:\\n\", result)\n",
        "\n",
        "\n"
      ],
      "metadata": {
        "colab": {
          "base_uri": "https://localhost:8080/"
        },
        "id": "ObhriwNmQTo3",
        "outputId": "f67d38a4-3e6d-4c2c-e178-eba50ec92821"
      },
      "execution_count": 14,
      "outputs": [
        {
          "output_type": "stream",
          "name": "stdout",
          "text": [
            "Original Array:\n",
            " ['apple' 'banana' 'grape' 'pineapple']\n",
            "\n",
            "Updated Array after replacement:\n",
            " ['orange' 'banana' 'grape' 'pineapple']\n"
          ]
        }
      ]
    },
    {
      "cell_type": "code",
      "source": [
        "# 59. Write a function that concatenates strings in a NumPy array element-wise. arr1 = np.array(['Hello', 'World']) arr2 = np.array(['Open', 'AI']).\n",
        "\n",
        "\n",
        "def concatenate_strings(arr1, arr2):\n",
        "    return np.char.add(arr1, arr2)\n",
        "\n",
        "# Example usage\n",
        "if __name__ == \"__main__\":\n",
        "    # Given arrays of strings\n",
        "    arr1 = np.array(['Hello', 'World'])\n",
        "    arr2 = np.array(['Open', 'AI'])\n",
        "\n",
        "    # Concatenate the strings element-wise\n",
        "    result = concatenate_strings(arr1, arr2)\n",
        "\n",
        "    # Print the result\n",
        "    print(\"Array 1:\", arr1)\n",
        "    print(\"Array 2:\", arr2)\n",
        "    print(\"Concatenated Strings:\\n\", result)"
      ],
      "metadata": {
        "colab": {
          "base_uri": "https://localhost:8080/"
        },
        "id": "NnRVMPLMRGc4",
        "outputId": "c776aa71-4b58-4bab-f2f1-4552eefbf60e"
      },
      "execution_count": 17,
      "outputs": [
        {
          "output_type": "stream",
          "name": "stdout",
          "text": [
            "Array 1: ['Hello' 'World']\n",
            "Array 2: ['Open' 'AI']\n",
            "Concatenated Strings:\n",
            " ['HelloOpen' 'WorldAI']\n"
          ]
        }
      ]
    },
    {
      "cell_type": "code",
      "source": [
        "# 60. Write a function that finds the length of the longest string in a NumPy array. arr = np.array(['apple', 'banana', 'grape', 'pineapple'])\n",
        "\n",
        "\n",
        "def longest_string_length(arr):\n",
        "    # Use numpy's vectorized operations to get lengths of each string\n",
        "    lengths = np.char.str_len(arr)\n",
        "\n",
        "    # Return the maximum length\n",
        "    return np.max(lengths)\n",
        "\n",
        "# Example usage\n",
        "if __name__ == \"__main__\":\n",
        "    # Given array of strings\n",
        "    arr = np.array(['apple', 'banana', 'grape', 'pineapple'])\n",
        "\n",
        "    # Find the length of the longest string\n",
        "    result = longest_string_length(arr)\n",
        "\n",
        "    # Print the result\n",
        "    print(\"Original Array:\", arr)\n",
        "    print(\"Length of the longest string:\", result)\n",
        "\n"
      ],
      "metadata": {
        "colab": {
          "base_uri": "https://localhost:8080/"
        },
        "id": "NIkj2eKoTkB4",
        "outputId": "a07aeda1-ded3-4517-f481-5f32e9e17b0d"
      },
      "execution_count": 19,
      "outputs": [
        {
          "output_type": "stream",
          "name": "stdout",
          "text": [
            "Original Array: ['apple' 'banana' 'grape' 'pineapple']\n",
            "Length of the longest string: 9\n"
          ]
        }
      ]
    },
    {
      "cell_type": "code",
      "source": [
        "# 61. Create a dataset of 100 random integers between 1 and 1000. Compute the mean, median, variance, and standard deviation of the dataset using NumPy's functions.\n",
        "\n",
        "\n",
        "def generate_random_data(size=100, low=1, high=1000):\n",
        "    # Generate random integers\n",
        "    data = np.random.randint(low, high, size)\n",
        "\n",
        "    # Compute statistics\n",
        "    mean = np.mean(data)\n",
        "    median = np.median(data)\n",
        "    variance = np.var(data)\n",
        "    std_deviation = np.std(data)\n",
        "\n",
        "    # Return the results in a dictionary\n",
        "    return {\n",
        "        'mean': mean,\n",
        "        'median': median,\n",
        "        'variance': variance,\n",
        "        'standard_deviation': std_deviation,\n",
        "        'data': data  # Optional: include the generated data for reference\n",
        "    }\n",
        "\n",
        "# Example usage\n",
        "if __name__ == \"__main__\":\n",
        "    stats = generate_random_data()\n",
        "\n",
        "    print(\"Generated Data:\", stats['data'])\n",
        "    print(\"\\nMean:\", stats['mean'])\n",
        "    print(\"Median:\", stats['median'])\n",
        "    print(\"Variance:\", stats['variance'])\n",
        "    print(\"Standard Deviation:\", stats['standard_deviation'])\n",
        "\n"
      ],
      "metadata": {
        "colab": {
          "base_uri": "https://localhost:8080/"
        },
        "id": "O8bnngw6Ui9q",
        "outputId": "27352c94-07de-445c-e1c6-5b783439b329"
      },
      "execution_count": 20,
      "outputs": [
        {
          "output_type": "stream",
          "name": "stdout",
          "text": [
            "Generated Data: [623  69 124 860  26 195 980 850 348  47 925 665 114 969 284 192 727 188\n",
            " 940 877 916 616 350 299   7 265 815 163  47 825 970 298 152 878 995 474\n",
            " 730 833 574 193 277 829 667 885 258 802 522 223 105 721 189  84 947  11\n",
            " 337 792 237 733 312 833 226 483 951 813 189 515 214 341 495 440 983   9\n",
            " 985 954 710 744 259 946  43 990  55 485 478  75 833  42 133 131 462 783\n",
            "  50 404 126 436 362 392 652 701 995 170]\n",
            "\n",
            "Mean: 492.22\n",
            "Median: 468.0\n",
            "Variance: 106959.37159999998\n",
            "Standard Deviation: 327.04643645818857\n"
          ]
        }
      ]
    },
    {
      "cell_type": "code",
      "source": [
        "# 62. Generate an array of 50 random numbers between 1 and 100. Find the 25th and 75th percentiles of the dataset.\n",
        "\n",
        "\n",
        "def generate_random_numbers_and_percentiles(size=50, low=1, high=100):\n",
        "    # Generate random numbers\n",
        "    data = np.random.randint(low, high, size)\n",
        "\n",
        "    # Compute the 25th and 75th percentiles\n",
        "    percentile_25 = np.percentile(data, 25)\n",
        "    percentile_75 = np.percentile(data, 75)\n",
        "\n",
        "    # Return the results in a dictionary\n",
        "    return {\n",
        "        'data': data,\n",
        "        '25th_percentile': percentile_25,\n",
        "        '75th_percentile': percentile_75\n",
        "    }\n",
        "\n",
        "# Example usage\n",
        "if __name__ == \"__main__\":\n",
        "    result = generate_random_numbers_and_percentiles()\n",
        "\n",
        "    print(\"Generated Data:\", result['data'])\n",
        "    print(\"25th Percentile:\", result['25th_percentile'])\n",
        "    print(\"75th Percentile:\", result['75th_percentile'])\n"
      ],
      "metadata": {
        "colab": {
          "base_uri": "https://localhost:8080/"
        },
        "id": "1VhREOBvU4GA",
        "outputId": "1ab1d7b1-6263-433f-fcb0-436e8c6ecab1"
      },
      "execution_count": 21,
      "outputs": [
        {
          "output_type": "stream",
          "name": "stdout",
          "text": [
            "Generated Data: [23 81 55 66 41 38 17 63  1 20 31 64 53 81 79 12 48 52  9  6 39 23 62 25\n",
            " 53 66 60 87 98 91 12  7 65 73 82 29 24 26 14 80 43 87 95 74 79 74 56 96\n",
            " 32 76]\n",
            "25th Percentile: 25.25\n",
            "75th Percentile: 75.5\n"
          ]
        }
      ]
    },
    {
      "cell_type": "code",
      "source": [
        "# 63. Create two arrays representing two sets of variables. Compute the correlation coefficient between these arrays using NumPy's `corrcoef` function.\n",
        "\n",
        "\n",
        "def compute_correlation(arr1, arr2):\n",
        "    # Calculate the correlation coefficient matrix\n",
        "    correlation_matrix = np.corrcoef(arr1, arr2)\n",
        "    return correlation_matrix\n",
        "\n",
        "# Example usage\n",
        "if __name__ == \"__main__\":\n",
        "    # Create two arrays representing two sets of variables\n",
        "    arr1 = np.array([10, 20, 30, 40, 50])\n",
        "    arr2 = np.array([5, 15, 25, 35, 45])\n",
        "\n",
        "    # Compute the correlation coefficient\n",
        "    result = compute_correlation(arr1, arr2)\n",
        "\n",
        "    # Print the result\n",
        "    print(\"Correlation Coefficient Matrix:\\n\", result)\n"
      ],
      "metadata": {
        "colab": {
          "base_uri": "https://localhost:8080/"
        },
        "id": "szloOR7zVcrq",
        "outputId": "ed0929ac-a830-4e3f-bed9-c011a1cc6bb5"
      },
      "execution_count": 22,
      "outputs": [
        {
          "output_type": "stream",
          "name": "stdout",
          "text": [
            "Correlation Coefficient Matrix:\n",
            " [[1. 1.]\n",
            " [1. 1.]]\n"
          ]
        }
      ]
    },
    {
      "cell_type": "code",
      "source": [
        "# 64. Create two matrices and perform matrix multiplication using NumPy's `dot` function.\n",
        "\n",
        "\n",
        "def multiply_matrices(mat1, mat2):\n",
        "    return np.dot(mat1, mat2)\n",
        "\n",
        "# Example usage\n",
        "if __name__ == \"__main__\":\n",
        "    # Define two matrices\n",
        "    mat1 = np.array([[1, 2],\n",
        "                     [3, 4]])\n",
        "\n",
        "    mat2 = np.array([[5, 6],\n",
        "                     [7, 8]])\n",
        "\n",
        "    # Perform matrix multiplication\n",
        "    result = multiply_matrices(mat1, mat2)\n",
        "\n",
        "    # Print the result\n",
        "    print(\"Matrix 1:\\n\", mat1)\n",
        "    print(\"\\nMatrix 2:\\n\", mat2)\n",
        "    print(\"\\nResult of Matrix Multiplication:\\n\", result)\n"
      ],
      "metadata": {
        "colab": {
          "base_uri": "https://localhost:8080/"
        },
        "id": "cyxD_US6VsWM",
        "outputId": "86ca10ca-24be-4ffa-9fcf-ad39081b056f"
      },
      "execution_count": 23,
      "outputs": [
        {
          "output_type": "stream",
          "name": "stdout",
          "text": [
            "Matrix 1:\n",
            " [[1 2]\n",
            " [3 4]]\n",
            "\n",
            "Matrix 2:\n",
            " [[5 6]\n",
            " [7 8]]\n",
            "\n",
            "Result of Matrix Multiplication:\n",
            " [[19 22]\n",
            " [43 50]]\n"
          ]
        }
      ]
    },
    {
      "cell_type": "code",
      "source": [
        "# 65. Create an array of 50 integers between 10 and 1000. Calculate the 10th, 50th (median), and 90th percentiles along with the first and third quartiles.\n",
        "\n",
        "\n",
        "def calculate_percentiles_and_quartiles(size=50, low=10, high=1000):\n",
        "    # Generate random integers\n",
        "    data = np.random.randint(low, high, size)\n",
        "\n",
        "    # Calculate percentiles\n",
        "    percentile_10 = np.percentile(data, 10)\n",
        "    median = np.percentile(data, 50)  # This is the median\n",
        "    percentile_90 = np.percentile(data, 90)\n",
        "\n",
        "    # Calculate quartiles\n",
        "    first_quartile = np.percentile(data, 25)\n",
        "    third_quartile = np.percentile(data, 75)\n",
        "\n",
        "    # Return results in a dictionary\n",
        "    return {\n",
        "        'data': data,\n",
        "        '10th_percentile': percentile_10,\n",
        "        'median': median,\n",
        "        '90th_percentile': percentile_90,\n",
        "        'first_quartile': first_quartile,\n",
        "        'third_quartile': third_quartile\n",
        "    }\n",
        "\n",
        "# Example usage\n",
        "if __name__ == \"__main__\":\n",
        "    result = calculate_percentiles_and_quartiles()\n",
        "\n",
        "    print(\"Generated Data:\", result['data'])\n",
        "    print(\"10th Percentile:\", result['10th_percentile'])\n",
        "    print(\"Median (50th Percentile):\", result['median'])\n",
        "    print(\"90th Percentile:\", result['90th_percentile'])\n",
        "    print(\"First Quartile (25th Percentile):\", result['first_quartile'])\n",
        "    print(\"Third Quartile (75th Percentile):\", result['third_quartile'])\n",
        "\n"
      ],
      "metadata": {
        "colab": {
          "base_uri": "https://localhost:8080/"
        },
        "id": "eTIq_nUaWqSL",
        "outputId": "6b840514-6f1a-45bb-f5af-3b0443f9992f"
      },
      "execution_count": 24,
      "outputs": [
        {
          "output_type": "stream",
          "name": "stdout",
          "text": [
            "Generated Data: [949 750 278 331 123 267 903 230 853 322 265 201 289 816 901  11 587 597\n",
            " 554 744  51 207 845 495 789 779 800 643 342 843  49 694 362 777  20 798\n",
            " 335 716 465 301 806 766 586 137 105 267 842 674 543 270]\n",
            "10th Percentile: 121.2\n",
            "Median (50th Percentile): 548.5\n",
            "90th Percentile: 843.2\n",
            "First Quartile (25th Percentile): 267.75\n",
            "Third Quartile (75th Percentile): 778.5\n"
          ]
        }
      ]
    },
    {
      "cell_type": "code",
      "source": [
        "# 66. Create a NumPy array of integers and find the index of a specific element.\n",
        "\n",
        "\n",
        "def find_element_index(arr, value):\n",
        "    indices = np.where(arr == value)[0]  # Get all indices where arr equals value\n",
        "    if indices.size > 0:\n",
        "        return indices[0]  # Return the first index\n",
        "    else:\n",
        "        return -1  # Return -1 if the value is not found\n",
        "\n",
        "# Example usage\n",
        "if __name__ == \"__main__\":\n",
        "    # Create a NumPy array of integers\n",
        "    arr = np.array([10, 20, 30, 40, 50, 60, 70, 80, 90, 100])\n",
        "\n",
        "    # Value to find\n",
        "    value_to_find = 50\n",
        "\n",
        "    # Find the index of the specified element\n",
        "    index = find_element_index(arr, value_to_find)\n",
        "\n",
        "    # Print the result\n",
        "    if index != -1:\n",
        "        print(f\"The index of {value_to_find} is: {index}\")\n",
        "    else:\n",
        "        print(f\"{value_to_find} is not found in the array.\")\n"
      ],
      "metadata": {
        "colab": {
          "base_uri": "https://localhost:8080/"
        },
        "id": "rw87X24JW6fY",
        "outputId": "358c432f-036b-461d-9dee-776833f5659a"
      },
      "execution_count": 25,
      "outputs": [
        {
          "output_type": "stream",
          "name": "stdout",
          "text": [
            "The index of 50 is: 4\n"
          ]
        }
      ]
    },
    {
      "cell_type": "code",
      "source": [
        "# 67. Generate a random NumPy array and sort it in ascending order.\n",
        "\n",
        "\n",
        "def generate_and_sort_random_array(size=50, low=10, high=1000):\n",
        "    # Generate a random array of integers\n",
        "    random_array = np.random.randint(low, high, size)\n",
        "\n",
        "    # Sort the array in ascending order\n",
        "    sorted_array = np.sort(random_array)\n",
        "\n",
        "    return random_array, sorted_array\n",
        "\n",
        "# Example usage\n",
        "if __name__ == \"__main__\":\n",
        "    original_array, sorted_array = generate_and_sort_random_array()\n",
        "\n",
        "    print(\"Original Random Array:\\n\", original_array)\n",
        "    print(\"\\nSorted Array in Ascending Order:\\n\", sorted_array)\n"
      ],
      "metadata": {
        "colab": {
          "base_uri": "https://localhost:8080/"
        },
        "id": "RxuGUpM-XFSw",
        "outputId": "3695eda2-2a65-44f7-fff3-677f736b47d3"
      },
      "execution_count": 26,
      "outputs": [
        {
          "output_type": "stream",
          "name": "stdout",
          "text": [
            "Original Random Array:\n",
            " [917 926 510  41 187 684 375 994 391 120 122 977 880 726 996 403  37 263\n",
            " 409 314 647 529 617 955 738 661 618 306 430 308 872 594 655 139 519  30\n",
            " 524 372  65 725  84  82 320 925 726 369 531 370 844 785]\n",
            "\n",
            "Sorted Array in Ascending Order:\n",
            " [ 30  37  41  65  82  84 120 122 139 187 263 306 308 314 320 369 370 372\n",
            " 375 391 403 409 430 510 519 524 529 531 594 617 618 647 655 661 684 725\n",
            " 726 726 738 785 844 872 880 917 925 926 955 977 994 996]\n"
          ]
        }
      ]
    },
    {
      "cell_type": "code",
      "source": [
        "# 68. Filter elements >20  in the given NumPy array. arr = np.array([12, 25, 6, 42, 8, 30])\n",
        "\n",
        "\n",
        "# Create the NumPy array\n",
        "arr = np.array([12, 25, 6, 42, 8, 30])\n",
        "\n",
        "# Filter elements greater than 20\n",
        "filtered_elements = arr[arr > 20]\n",
        "\n",
        "# Print the result\n",
        "print(\"Original Array:\", arr)\n",
        "print(\"Filtered Elements (greater than 20):\", filtered_elements)\n"
      ],
      "metadata": {
        "colab": {
          "base_uri": "https://localhost:8080/"
        },
        "id": "JGzjL_O0XUUL",
        "outputId": "5cb77885-3732-4e63-e842-b1ca5c4d1498"
      },
      "execution_count": 28,
      "outputs": [
        {
          "output_type": "stream",
          "name": "stdout",
          "text": [
            "Original Array: [12 25  6 42  8 30]\n",
            "Filtered Elements (greater than 20): [25 42 30]\n"
          ]
        }
      ]
    },
    {
      "cell_type": "code",
      "source": [
        "# 69. Filter elements which are divisible by 3 from a given NumPy array. arr = np.array([1, 5, 8, 12, 15]).\n",
        "\n",
        "# Create the NumPy array\n",
        "arr = np.array([1, 5, 8, 12, 15])\n",
        "\n",
        "# Filter elements that are divisible by 3\n",
        "filtered_elements = arr[arr % 3 == 0]\n",
        "\n",
        "# Print the result\n",
        "print(\"Original Array:\", arr)\n",
        "print(\"Filtered Elements (divisible by 3):\", filtered_elements)\n"
      ],
      "metadata": {
        "colab": {
          "base_uri": "https://localhost:8080/"
        },
        "id": "2gb7SyxKXtPQ",
        "outputId": "5554e23a-81a3-471e-9187-4094420db1b5"
      },
      "execution_count": 29,
      "outputs": [
        {
          "output_type": "stream",
          "name": "stdout",
          "text": [
            "Original Array: [ 1  5  8 12 15]\n",
            "Filtered Elements (divisible by 3): [12 15]\n"
          ]
        }
      ]
    },
    {
      "cell_type": "code",
      "source": [
        "# 70. Filter elements which are ≥ 20 and ≤ 40 from a given NumPy array. arr = np.array([10, 20, 30, 40, 50])\n",
        "\n",
        "# Create the NumPy array\n",
        "arr = np.array([10, 20, 30, 40, 50])\n",
        "\n",
        "# Filter elements that are ≥ 20 and ≤ 40\n",
        "filtered_elements = arr[(arr >= 20) & (arr <= 40)]\n",
        "\n",
        "# Print the result\n",
        "print(\"Original Array:\", arr)\n",
        "print(\"Filtered Elements (≥ 20 and ≤ 40):\", filtered_elements)\n"
      ],
      "metadata": {
        "colab": {
          "base_uri": "https://localhost:8080/"
        },
        "id": "-F4ShligYQhk",
        "outputId": "2403046b-2d88-4a18-805b-ceaeb80abe92"
      },
      "execution_count": 30,
      "outputs": [
        {
          "output_type": "stream",
          "name": "stdout",
          "text": [
            "Original Array: [10 20 30 40 50]\n",
            "Filtered Elements (≥ 20 and ≤ 40): [20 30 40]\n"
          ]
        }
      ]
    },
    {
      "cell_type": "code",
      "source": [
        "# 71. For the given NumPy array, check its byte order using the `dtype` attribute byteorder. arr = np.array([1, 2, 3])\n",
        "\n",
        "\n",
        "# Create the NumPy array\n",
        "arr = np.array([1, 2, 3])\n",
        "\n",
        "# Check the byte order using the dtype attribute\n",
        "byte_order = arr.dtype.byteorder\n",
        "\n",
        "# Print the result\n",
        "print(\"Array:\", arr)\n",
        "print(\"Byte Order:\", byte_order)\n"
      ],
      "metadata": {
        "colab": {
          "base_uri": "https://localhost:8080/"
        },
        "id": "CCNf37CDYeMn",
        "outputId": "635174e1-23f1-4908-bf6a-db8565eff57e"
      },
      "execution_count": 31,
      "outputs": [
        {
          "output_type": "stream",
          "name": "stdout",
          "text": [
            "Array: [1 2 3]\n",
            "Byte Order: =\n"
          ]
        }
      ]
    },
    {
      "cell_type": "code",
      "source": [
        "# 72. For the given NumPy array, perform byte swapping in place using `byteswap()`. arr = np.array([1, 2, 3], dtype=np.int32)\n",
        "\n",
        "\n",
        "# Create the NumPy array with dtype int32\n",
        "arr = np.array([1, 2, 3], dtype=np.int32)\n",
        "\n",
        "# Print the original array\n",
        "print(\"Original Array:\", arr)\n",
        "\n",
        "# Perform byte swapping in place\n",
        "arr.byteswap(inplace=True)\n",
        "\n",
        "# Print the modified array after byte swapping\n",
        "print(\"Array after Byte Swapping:\", arr)\n"
      ],
      "metadata": {
        "colab": {
          "base_uri": "https://localhost:8080/"
        },
        "id": "6CxA5N7WYy66",
        "outputId": "cd9ded5f-ccad-4278-82cc-14be9e62d0dd"
      },
      "execution_count": 32,
      "outputs": [
        {
          "output_type": "stream",
          "name": "stdout",
          "text": [
            "Original Array: [1 2 3]\n",
            "Array after Byte Swapping: [16777216 33554432 50331648]\n"
          ]
        }
      ]
    },
    {
      "cell_type": "code",
      "source": [
        "# 73. For the given NumPy array, swap its byte order without modifying the original array using `newbyteorder()`.arr = np.array([1, 2, 3], dtype=np.int32)\n",
        "\n",
        "\n",
        "# Create the NumPy array with dtype int32\n",
        "arr = np.array([1, 2, 3], dtype=np.int32)\n",
        "\n",
        "# Print the original array and its byte order\n",
        "print(\"Original Array:\", arr)\n",
        "print(\"Original Byte Order:\", arr.dtype.byteorder)\n",
        "\n",
        "# Swap byte order without modifying the original array\n",
        "swapped_arr = arr.newbyteorder()\n",
        "\n",
        "# Print the new array and its byte order\n",
        "print(\"Swapped Byte Order Array:\", swapped_arr)\n",
        "print(\"Swapped Byte Order Array's Byte Order:\", swapped_arr.dtype.byteorder)\n"
      ],
      "metadata": {
        "colab": {
          "base_uri": "https://localhost:8080/"
        },
        "id": "J5_fYtQmZGu5",
        "outputId": "84337598-41ca-4b8a-bb34-209ffe049a5c"
      },
      "execution_count": 33,
      "outputs": [
        {
          "output_type": "stream",
          "name": "stdout",
          "text": [
            "Original Array: [1 2 3]\n",
            "Original Byte Order: =\n",
            "Swapped Byte Order Array: [16777216 33554432 50331648]\n",
            "Swapped Byte Order Array's Byte Order: >\n"
          ]
        }
      ]
    },
    {
      "cell_type": "code",
      "source": [
        "# 74. For the given NumPy array and swap its byte order conditionally based on system endianness using `newbyteorder()`.arr = np.array([1, 2, 3], dtype=np.int32)\n",
        "\n",
        "import sys\n",
        "\n",
        "# Create the NumPy array with dtype int32\n",
        "arr = np.array([1, 2, 3], dtype=np.int32)\n",
        "\n",
        "# Print the original array and its byte order\n",
        "print(\"Original Array:\", arr)\n",
        "print(\"Original Byte Order:\", arr.dtype.byteorder)\n",
        "\n",
        "# Determine the system's endianness\n",
        "if sys.byteorder == 'little':\n",
        "    # If system is little-endian, swap to big-endian\n",
        "    swapped_arr = arr.newbyteorder('>')\n",
        "else:\n",
        "    # If system is big-endian, swap to little-endian\n",
        "    swapped_arr = arr.newbyteorder('<')\n",
        "\n",
        "# Print the swapped array and its byte order\n",
        "print(\"Swapped Byte Order Array:\", swapped_arr)\n",
        "print(\"Swapped Byte Order Array's Byte Order:\", swapped_arr.dtype.byteorder)\n",
        "\n"
      ],
      "metadata": {
        "colab": {
          "base_uri": "https://localhost:8080/"
        },
        "id": "_OCSIlfLZg4Y",
        "outputId": "fcfd713a-f5ff-4618-eb11-5fca487e99e6"
      },
      "execution_count": 34,
      "outputs": [
        {
          "output_type": "stream",
          "name": "stdout",
          "text": [
            "Original Array: [1 2 3]\n",
            "Original Byte Order: =\n",
            "Swapped Byte Order Array: [16777216 33554432 50331648]\n",
            "Swapped Byte Order Array's Byte Order: >\n"
          ]
        }
      ]
    },
    {
      "cell_type": "code",
      "source": [
        "# 75. For the given NumPy array, check if byte swapping is necessary for the current system using `dtype` attribute `byteorder`.arr = np.array([1, 2, 3], dtype=np.int32)\n",
        "\n",
        "import numpy as np\n",
        "import sys\n",
        "\n",
        "# Create the NumPy array with dtype int32\n",
        "arr = np.array([1, 2, 3], dtype=np.int32)\n",
        "\n",
        "# Print the original array and its byte order\n",
        "print(\"Original Array:\", arr)\n",
        "print(\"Original Byte Order:\", arr.dtype.byteorder)\n",
        "\n",
        "# Determine the system's endianness\n",
        "system_endianness = sys.byteorder\n",
        "print(\"System Endianness:\", system_endianness)\n",
        "\n",
        "# Check if byte swapping is necessary\n",
        "if (arr.dtype.byteorder == '=' and system_endianness == 'little') or \\\n",
        "   (arr.dtype.byteorder == '>' and system_endianness == 'little') or \\\n",
        "   (arr.dtype.byteorder == '<' and system_endianness == 'big'):\n",
        "    print(\"Byte swapping is necessary.\")\n",
        "else:\n",
        "    print(\"Byte swapping is not necessary.\")\n",
        "\n"
      ],
      "metadata": {
        "colab": {
          "base_uri": "https://localhost:8080/"
        },
        "id": "xhnYlZGKZ1YK",
        "outputId": "02e9c851-9864-42ae-f60c-f78585740e7c"
      },
      "execution_count": 35,
      "outputs": [
        {
          "output_type": "stream",
          "name": "stdout",
          "text": [
            "Original Array: [1 2 3]\n",
            "Original Byte Order: =\n",
            "System Endianness: little\n",
            "Byte swapping is necessary.\n"
          ]
        }
      ]
    },
    {
      "cell_type": "code",
      "source": [
        "# 76. Create a NumPy array `arr1` with values from 1 to 10. Create a copy of `arr1` named `copy_arr` and modify an element in `copy_arr`. Check if modifying `copy_arr` affects `arr1`.\n",
        "\n",
        "\n",
        "# Create the original NumPy array with values from 1 to 10\n",
        "arr1 = np.arange(1, 11)\n",
        "\n",
        "# Create a copy of arr1\n",
        "copy_arr = arr1.copy()\n",
        "\n",
        "# Modify an element in copy_arr\n",
        "copy_arr[0] = 100\n",
        "\n",
        "# Print both arrays to check if arr1 is affected\n",
        "print(\"Original Array (arr1):\", arr1)\n",
        "print(\"Modified Copy Array (copy_arr):\", copy_arr)\n"
      ],
      "metadata": {
        "colab": {
          "base_uri": "https://localhost:8080/"
        },
        "id": "rHtOenNwaOOo",
        "outputId": "e823a2f9-5610-40f0-b56b-85a3dbaf116f"
      },
      "execution_count": 37,
      "outputs": [
        {
          "output_type": "stream",
          "name": "stdout",
          "text": [
            "Original Array (arr1): [ 1  2  3  4  5  6  7  8  9 10]\n",
            "Modified Copy Array (copy_arr): [100   2   3   4   5   6   7   8   9  10]\n"
          ]
        }
      ]
    },
    {
      "cell_type": "code",
      "source": [
        "# 77. Create a 2D NumPy array `matrix` of shape (3, 3) with random integers. Extract a slice `view_slice` from the matrix. Modify an element in `view_slice` and observe if it changes the original `matrix`.\n",
        "\n",
        "\n",
        "# Create a 2D NumPy array (3x3) with random integers between 0 and 10\n",
        "matrix = np.random.randint(0, 10, size=(3, 3))\n",
        "\n",
        "# Print the original matrix\n",
        "print(\"Original Matrix:\\n\", matrix)\n",
        "\n",
        "# Extract a slice from the matrix (for example, the first two rows and columns)\n",
        "view_slice = matrix[:2, :2]\n",
        "\n",
        "# Print the extracted slice\n",
        "print(\"\\nView Slice before modification:\\n\", view_slice)\n",
        "\n",
        "# Modify an element in the view_slice\n",
        "view_slice[0, 0] = 99\n",
        "\n",
        "# Print both the modified slice and the original matrix to observe changes\n",
        "print(\"\\nModified View Slice:\\n\", view_slice)\n",
        "print(\"\\nOriginal Matrix after modifying View Slice:\\n\", matrix)\n",
        "\n",
        "\n",
        "\n",
        "\n"
      ],
      "metadata": {
        "colab": {
          "base_uri": "https://localhost:8080/"
        },
        "id": "i6v7lCOfadGR",
        "outputId": "702fb53e-e17c-4519-b363-3651d2317716"
      },
      "execution_count": 38,
      "outputs": [
        {
          "output_type": "stream",
          "name": "stdout",
          "text": [
            "Original Matrix:\n",
            " [[5 7 3]\n",
            " [3 1 4]\n",
            " [5 8 9]]\n",
            "\n",
            "View Slice before modification:\n",
            " [[5 7]\n",
            " [3 1]]\n",
            "\n",
            "Modified View Slice:\n",
            " [[99  7]\n",
            " [ 3  1]]\n",
            "\n",
            "Original Matrix after modifying View Slice:\n",
            " [[99  7  3]\n",
            " [ 3  1  4]\n",
            " [ 5  8  9]]\n"
          ]
        }
      ]
    },
    {
      "cell_type": "code",
      "source": [
        "# 78. Create a NumPy array `array_a` of shape (4, 3) with sequential integers from 1 to 12. Extract a slice `view_b` from `array_a` and broadcast the addition of 5 to view_b. Check if it alters the original `array_a`.\n",
        "\n",
        "\n",
        "# Create a NumPy array with values from 1 to 12 and reshape it to (4, 3)\n",
        "array_a = np.arange(1, 13).reshape(4, 3)\n",
        "\n",
        "# Print the original array\n",
        "print(\"Original Array (array_a):\\n\", array_a)\n",
        "\n",
        "# Extract a slice from array_a\n",
        "view_b = array_a[1:3, 1:3]  # Extracting a 2x2 slice from the second and third rows and columns\n",
        "\n",
        "# Print the extracted slice\n",
        "print(\"\\nExtracted Slice (view_b) before modification:\\n\", view_b)\n",
        "\n",
        "# Broadcast the addition of 5 to view_b\n",
        "view_b += 5\n",
        "\n",
        "# Print both arrays to check if array_a is affected\n",
        "print(\"\\nModified Slice (view_b):\\n\", view_b)\n",
        "print(\"\\nOriginal Array (array_a) after modifying view_b:\\n\", array_a)\n",
        "\n"
      ],
      "metadata": {
        "colab": {
          "base_uri": "https://localhost:8080/"
        },
        "id": "UleZKh9xaqud",
        "outputId": "f642423b-4fcd-4574-a28b-39e07a284b75"
      },
      "execution_count": 39,
      "outputs": [
        {
          "output_type": "stream",
          "name": "stdout",
          "text": [
            "Original Array (array_a):\n",
            " [[ 1  2  3]\n",
            " [ 4  5  6]\n",
            " [ 7  8  9]\n",
            " [10 11 12]]\n",
            "\n",
            "Extracted Slice (view_b) before modification:\n",
            " [[5 6]\n",
            " [8 9]]\n",
            "\n",
            "Modified Slice (view_b):\n",
            " [[10 11]\n",
            " [13 14]]\n",
            "\n",
            "Original Array (array_a) after modifying view_b:\n",
            " [[ 1  2  3]\n",
            " [ 4 10 11]\n",
            " [ 7 13 14]\n",
            " [10 11 12]]\n"
          ]
        }
      ]
    },
    {
      "cell_type": "code",
      "source": [
        "# 79. Create a NumPy array `orig_array` of shape (2, 4) with values from 1 to 8. Create a reshaped view `reshaped_view` of shape (4, 2) from orig_array. Modify an element in `reshaped_view` and check if it reflects changes in the original `orig_array`.\n",
        "\n",
        "\n",
        "# Create a NumPy array of shape (2, 4) with values from 1 to 8\n",
        "orig_array = np.arange(1, 9).reshape(2, 4)\n",
        "\n",
        "# Print the original array\n",
        "print(\"Original Array (orig_array):\\n\", orig_array)\n",
        "\n",
        "# Create a reshaped view of orig_array with shape (4, 2)\n",
        "reshaped_view = orig_array.reshape(4, 2)\n",
        "\n",
        "# Print the reshaped view\n",
        "print(\"\\nReshaped View (reshaped_view):\\n\", reshaped_view)\n",
        "\n",
        "# Modify an element in the reshaped view\n",
        "reshaped_view[0, 0] = 99\n",
        "\n",
        "# Print both arrays to check if orig_array is affected\n",
        "print(\"\\nModified Reshaped View (reshaped_view):\\n\", reshaped_view)\n",
        "print(\"\\nOriginal Array (orig_array) after modifying reshaped_view:\\n\", orig_array)\n",
        "\n",
        "\n"
      ],
      "metadata": {
        "colab": {
          "base_uri": "https://localhost:8080/"
        },
        "id": "FW7QYvYKa6e4",
        "outputId": "86c9c5c2-8a07-45a6-9009-d20e41dd44ac"
      },
      "execution_count": 40,
      "outputs": [
        {
          "output_type": "stream",
          "name": "stdout",
          "text": [
            "Original Array (orig_array):\n",
            " [[1 2 3 4]\n",
            " [5 6 7 8]]\n",
            "\n",
            "Reshaped View (reshaped_view):\n",
            " [[1 2]\n",
            " [3 4]\n",
            " [5 6]\n",
            " [7 8]]\n",
            "\n",
            "Modified Reshaped View (reshaped_view):\n",
            " [[99  2]\n",
            " [ 3  4]\n",
            " [ 5  6]\n",
            " [ 7  8]]\n",
            "\n",
            "Original Array (orig_array) after modifying reshaped_view:\n",
            " [[99  2  3  4]\n",
            " [ 5  6  7  8]]\n"
          ]
        }
      ]
    },
    {
      "cell_type": "code",
      "source": [
        "# 80. Create a NumPy array `data` of shape (3, 4) with random integers. Extract a copy `data_copy` of elements greater than 5. Modify an element in `data_copy` and verify if it affects the original `data`.\n",
        "\n",
        "\n",
        "# Create a NumPy array of shape (3, 4) with random integers between 0 and 10\n",
        "data = np.random.randint(0, 10, size=(3, 4))\n",
        "\n",
        "# Print the original array\n",
        "print(\"Original Array (data):\\n\", data)\n",
        "\n",
        "# Extract a copy of elements greater than 5\n",
        "data_copy = data[data > 5].copy()  # Using .copy() to ensure it's a separate copy\n",
        "\n",
        "# Print the copied array\n",
        "print(\"\\nCopied Array (data_copy) with elements > 5:\\n\", data_copy)\n",
        "\n",
        "# Modify an element in data_copy\n",
        "if data_copy.size > 0:  # Check if there are elements to modify\n",
        "    data_copy[0] = 99\n",
        "\n",
        "# Print both arrays to check if data is affected\n",
        "print(\"\\nModified Copied Array (data_copy):\\n\", data_copy)\n",
        "print(\"\\nOriginal Array (data) after modifying data_copy:\\n\", data)\n",
        "\n"
      ],
      "metadata": {
        "colab": {
          "base_uri": "https://localhost:8080/"
        },
        "id": "honiEKP6bKVL",
        "outputId": "1a44ccc9-e0f2-467b-b655-36cc255a27e4"
      },
      "execution_count": 41,
      "outputs": [
        {
          "output_type": "stream",
          "name": "stdout",
          "text": [
            "Original Array (data):\n",
            " [[4 9 1 7]\n",
            " [1 7 5 0]\n",
            " [8 4 6 1]]\n",
            "\n",
            "Copied Array (data_copy) with elements > 5:\n",
            " [9 7 7 8 6]\n",
            "\n",
            "Modified Copied Array (data_copy):\n",
            " [99  7  7  8  6]\n",
            "\n",
            "Original Array (data) after modifying data_copy:\n",
            " [[4 9 1 7]\n",
            " [1 7 5 0]\n",
            " [8 4 6 1]]\n"
          ]
        }
      ]
    },
    {
      "cell_type": "code",
      "source": [
        "# 81. Create two matrices A and B of identical shape containing integers and perform addition and subtraction operations between them..\n",
        "\n",
        "\n",
        "# Create two matrices A and B of shape (3, 3) with random integers\n",
        "A = np.random.randint(1, 10, size=(3, 3))  # Random integers between 1 and 9\n",
        "B = np.random.randint(1, 10, size=(3, 3))  # Random integers between 1 and 9\n",
        "\n",
        "# Print the original matrices\n",
        "print(\"Matrix A:\\n\", A)\n",
        "print(\"\\nMatrix B:\\n\", B)\n",
        "\n",
        "# Perform addition\n",
        "C_add = A + B\n",
        "\n",
        "# Perform subtraction\n",
        "C_sub = A - B\n",
        "\n",
        "# Print the results of addition and subtraction\n",
        "print(\"\\nResult of Addition (A + B):\\n\", C_add)\n",
        "print(\"\\nResult of Subtraction (A - B):\\n\", C_sub)\n",
        "\n"
      ],
      "metadata": {
        "colab": {
          "base_uri": "https://localhost:8080/"
        },
        "id": "HzH99xNxbVuo",
        "outputId": "6d249ce9-96f3-49f0-8118-68d303227835"
      },
      "execution_count": 42,
      "outputs": [
        {
          "output_type": "stream",
          "name": "stdout",
          "text": [
            "Matrix A:\n",
            " [[8 7 8]\n",
            " [7 4 6]\n",
            " [8 3 4]]\n",
            "\n",
            "Matrix B:\n",
            " [[6 2 8]\n",
            " [9 7 5]\n",
            " [4 5 5]]\n",
            "\n",
            "Result of Addition (A + B):\n",
            " [[14  9 16]\n",
            " [16 11 11]\n",
            " [12  8  9]]\n",
            "\n",
            "Result of Subtraction (A - B):\n",
            " [[ 2  5  0]\n",
            " [-2 -3  1]\n",
            " [ 4 -2 -1]]\n"
          ]
        }
      ]
    },
    {
      "cell_type": "code",
      "source": [
        "# 82. Generate two matrices `C` (3x2) and `D` (2x4) and perform matrix multiplication.\n",
        "\n",
        "\n",
        "# Generate matrix C of shape (3, 2) with random integers\n",
        "C = np.random.randint(1, 10, size=(3, 2))  # Random integers between 1 and 9\n",
        "\n",
        "# Generate matrix D of shape (2, 4) with random integers\n",
        "D = np.random.randint(1, 10, size=(2, 4))  # Random integers between 1 and 9\n",
        "\n",
        "# Print the generated matrices\n",
        "print(\"Matrix C (3x2):\\n\", C)\n",
        "print(\"\\nMatrix D (2x4):\\n\", D)\n",
        "\n",
        "# Perform matrix multiplication\n",
        "result = np.dot(C, D)  # Alternatively, you can use result = C @ D\n",
        "\n",
        "# Print the result of matrix multiplication\n",
        "print(\"\\nResult of Matrix Multiplication (C @ D):\\n\", result)\n"
      ],
      "metadata": {
        "colab": {
          "base_uri": "https://localhost:8080/"
        },
        "id": "Ih2J0g-Bbjhk",
        "outputId": "535db253-6897-4879-c608-fb29e71cd62e"
      },
      "execution_count": 43,
      "outputs": [
        {
          "output_type": "stream",
          "name": "stdout",
          "text": [
            "Matrix C (3x2):\n",
            " [[2 5]\n",
            " [5 2]\n",
            " [7 3]]\n",
            "\n",
            "Matrix D (2x4):\n",
            " [[3 9 3 9]\n",
            " [4 9 5 3]]\n",
            "\n",
            "Result of Matrix Multiplication (C @ D):\n",
            " [[26 63 31 33]\n",
            " [23 63 25 51]\n",
            " [33 90 36 72]]\n"
          ]
        }
      ]
    },
    {
      "cell_type": "code",
      "source": [
        "# 83. Create a matrix `E` and find its transpose.\n",
        "\n",
        "\n",
        "# Create a matrix E of shape (3, 4) with random integers\n",
        "E = np.random.randint(1, 10, size=(3, 4))  # Random integers between 1 and 9\n",
        "\n",
        "# Print the original matrix\n",
        "print(\"Original Matrix E:\\n\", E)\n",
        "\n",
        "# Find the transpose of the matrix\n",
        "E_transpose = E.T\n",
        "\n",
        "# Print the transposed matrix\n",
        "print(\"\\nTransposed Matrix E:\\n\", E_transpose)\n"
      ],
      "metadata": {
        "colab": {
          "base_uri": "https://localhost:8080/"
        },
        "id": "r7W3rJUFmOJw",
        "outputId": "3c6c3a46-c3f2-48b1-f4ac-09ec3581caa1"
      },
      "execution_count": 44,
      "outputs": [
        {
          "output_type": "stream",
          "name": "stdout",
          "text": [
            "Original Matrix E:\n",
            " [[8 1 9 9]\n",
            " [3 7 1 5]\n",
            " [9 9 2 3]]\n",
            "\n",
            "Transposed Matrix E:\n",
            " [[8 3 9]\n",
            " [1 7 9]\n",
            " [9 1 2]\n",
            " [9 5 3]]\n"
          ]
        }
      ]
    },
    {
      "cell_type": "code",
      "source": [
        "# 84. Generate a square matrix `F` and compute its determinant.\n",
        "\n",
        "\n",
        "# Generate a square matrix F of shape (3, 3) with random integers\n",
        "F = np.random.randint(1, 10, size=(3, 3))  # Random integers between 1 and 9\n",
        "\n",
        "# Print the original matrix\n",
        "print(\"Square Matrix F:\\n\", F)\n",
        "\n",
        "# Compute the determinant of the matrix\n",
        "determinant_F = np.linalg.det(F)\n",
        "\n",
        "# Print the determinant\n",
        "print(\"\\nDeterminant of Matrix F:\", determinant_F)\n"
      ],
      "metadata": {
        "colab": {
          "base_uri": "https://localhost:8080/"
        },
        "id": "SSrvYQ7zmbDB",
        "outputId": "d538dd10-0cde-470e-d8a9-258928c3a67e"
      },
      "execution_count": 45,
      "outputs": [
        {
          "output_type": "stream",
          "name": "stdout",
          "text": [
            "Square Matrix F:\n",
            " [[4 2 7]\n",
            " [1 5 3]\n",
            " [5 9 7]]\n",
            "\n",
            "Determinant of Matrix F: -63.99999999999998\n"
          ]
        }
      ]
    },
    {
      "cell_type": "code",
      "source": [
        "# 85. Create a square matrix `G` and find its inverse.\n",
        "\n",
        "\n",
        "# Generate a square matrix G of shape (3, 3) with random integers\n",
        "G = np.random.randint(1, 10, size=(3, 3))  # Random integers between 1 and 9\n",
        "\n",
        "# Print the original matrix\n",
        "print(\"Square Matrix G:\\n\", G)\n",
        "\n",
        "# Compute the determinant to check if the matrix is invertible\n",
        "determinant_G = np.linalg.det(G)\n",
        "print(\"\\nDeterminant of Matrix G:\", determinant_G)\n",
        "\n",
        "# Check if the determinant is non-zero before calculating the inverse\n",
        "if determinant_G != 0:\n",
        "    # Compute the inverse of the matrix\n",
        "    G_inverse = np.linalg.inv(G)\n",
        "    print(\"\\nInverse of Matrix G:\\n\", G_inverse)\n",
        "else:\n",
        "    print(\"\\nMatrix G is not invertible (determinant is zero).\")\n"
      ],
      "metadata": {
        "colab": {
          "base_uri": "https://localhost:8080/"
        },
        "id": "ygv5ZH8GmnIz",
        "outputId": "388a18dc-d01d-463d-f6be-d861947fafad"
      },
      "execution_count": 46,
      "outputs": [
        {
          "output_type": "stream",
          "name": "stdout",
          "text": [
            "Square Matrix G:\n",
            " [[5 4 1]\n",
            " [5 1 1]\n",
            " [9 3 3]]\n",
            "\n",
            "Determinant of Matrix G: -18.000000000000004\n",
            "\n",
            "Inverse of Matrix G:\n",
            " [[ 0.          0.5        -0.16666667]\n",
            " [ 0.33333333 -0.33333333  0.        ]\n",
            " [-0.33333333 -1.16666667  0.83333333]]\n"
          ]
        }
      ]
    },
    {
      "cell_type": "code",
      "source": [],
      "metadata": {
        "id": "zKfXAXjemx6j"
      },
      "execution_count": null,
      "outputs": []
    }
  ]
}